{
  "nbformat": 4,
  "nbformat_minor": 0,
  "metadata": {
    "colab": {
      "provenance": [],
      "gpuType": "T4"
    },
    "kernelspec": {
      "name": "python3",
      "display_name": "Python 3"
    },
    "language_info": {
      "name": "python"
    },
    "accelerator": "GPU"
  },
  "cells": [
    {
      "cell_type": "code",
      "execution_count": null,
      "metadata": {
        "colab": {
          "base_uri": "https://localhost:8080/"
        },
        "id": "roT1xTLwTebw",
        "outputId": "36564d72-081d-4401-f57f-460d7ee1f349"
      },
      "outputs": [
        {
          "output_type": "stream",
          "name": "stdout",
          "text": [
            "Using device: cuda\n"
          ]
        }
      ],
      "source": [
        "# Cell 1: Imports and Seed Initialization\n",
        "\n",
        "import os\n",
        "import pandas as pd\n",
        "import numpy as np\n",
        "import librosa\n",
        "import torch\n",
        "import torch.nn as nn\n",
        "import torch.nn.functional as F\n",
        "from torch.utils.data import Dataset, DataLoader\n",
        "import random\n",
        "from sklearn.model_selection import train_test_split\n",
        "from sklearn.metrics import accuracy_score, confusion_matrix, recall_score, precision_score\n",
        "import matplotlib.pyplot as plt\n",
        "from tqdm import tqdm\n",
        "import pickle\n",
        "import warnings\n",
        "warnings.filterwarnings('ignore')\n",
        "\n",
        "# Set random seeds for reproducibility\n",
        "torch.manual_seed(42)\n",
        "np.random.seed(42)\n",
        "random.seed(42)\n",
        "\n",
        "# Device configuration\n",
        "device = torch.device('cuda' if torch.cuda.is_available() else 'cpu')\n",
        "print(f\"Using device: {device}\")"
      ]
    },
    {
      "cell_type": "code",
      "source": [
        "import kagglehub\n",
        "# Download latest version\n",
        "path = kagglehub.dataset_download(\"reda1451/respiratorydatabase\")\n",
        "print(\"Path to dataset files:\", path)"
      ],
      "metadata": {
        "colab": {
          "base_uri": "https://localhost:8080/"
        },
        "id": "Gyf8CwaEToxU",
        "outputId": "fe3c8419-5c88-42f6-eedd-16695ff61f10"
      },
      "execution_count": null,
      "outputs": [
        {
          "output_type": "stream",
          "name": "stdout",
          "text": [
            "Downloading from https://www.kaggle.com/api/v1/datasets/download/reda1451/respiratorydatabase?dataset_version_number=1...\n"
          ]
        },
        {
          "output_type": "stream",
          "name": "stderr",
          "text": [
            "100%|██████████| 73.8M/73.8M [00:00<00:00, 195MB/s]"
          ]
        },
        {
          "output_type": "stream",
          "name": "stdout",
          "text": [
            "Extracting files...\n"
          ]
        },
        {
          "output_type": "stream",
          "name": "stderr",
          "text": [
            "\n"
          ]
        },
        {
          "output_type": "stream",
          "name": "stdout",
          "text": [
            "Path to dataset files: /root/.cache/kagglehub/datasets/reda1451/respiratorydatabase/versions/1\n"
          ]
        }
      ]
    },
    {
      "cell_type": "code",
      "source": [
        "# Cell 2: Dataset Paths and Hyperparameters\n",
        "\n",
        "dataset_path = \"/root/.cache/kagglehub/datasets/reda1451/respiratorydatabase/versions/1/RespiratoryDatabase@TR\"\n",
        "labels_path = \"/root/.cache/kagglehub/datasets/reda1451/respiratorydatabase/versions/1/Labels.xlsx\"\n",
        "\n",
        "window_duration = 2.0\n",
        "overlap = 0.5\n",
        "n_mels = 64\n",
        "n_fft = 1024\n",
        "hop_length = 512\n",
        "fmin = 20\n",
        "\n",
        "batch_size = 32\n",
        "lr = 0.001\n",
        "weight_decay = 1e-4\n",
        "num_epochs = 200\n",
        "patience = 15\n",
        "d_z = 64"
      ],
      "metadata": {
        "id": "dnK5dYAlTwt-"
      },
      "execution_count": null,
      "outputs": []
    },
    {
      "cell_type": "code",
      "source": [
        "\n",
        "import os\n",
        "\n",
        "# Dataset directory\n",
        "dataset_path = \"/root/.cache/kagglehub/datasets/reda1451/respiratorydatabase/versions/1/RespiratoryDatabase@TR\"\n",
        "\n",
        "# Initialize subject_files dictionary\n",
        "subject_files = {}\n",
        "\n",
        "# Parse all .wav files directly from folder\n",
        "if os.path.exists(dataset_path):\n",
        "    for file in os.listdir(dataset_path):\n",
        "        if file.lower().endswith(\".wav\"):\n",
        "            # Extract subject ID from filename (first 4 chars like H001)\n",
        "            subject_id = file[:4]\n",
        "            file_path = os.path.join(dataset_path, file)\n",
        "\n",
        "            if subject_id not in subject_files:\n",
        "                subject_files[subject_id] = []\n",
        "            subject_files[subject_id].append(file_path)\n",
        "\n",
        "print(\"Total subjects with .wav files:\", len(subject_files))"
      ],
      "metadata": {
        "colab": {
          "base_uri": "https://localhost:8080/"
        },
        "id": "3KZXaeoqT7m3",
        "outputId": "9c311913-48a4-44cf-9896-f161219c1621"
      },
      "execution_count": null,
      "outputs": [
        {
          "output_type": "stream",
          "name": "stdout",
          "text": [
            "Total subjects with .wav files: 42\n"
          ]
        }
      ]
    },
    {
      "cell_type": "code",
      "source": [
        "print(len(subject_files))"
      ],
      "metadata": {
        "colab": {
          "base_uri": "https://localhost:8080/"
        },
        "id": "ZpoF7I9DWyn0",
        "outputId": "89a2c8b8-bbc0-4845-9c02-8fbe3914657a"
      },
      "execution_count": null,
      "outputs": [
        {
          "output_type": "stream",
          "name": "stdout",
          "text": [
            "42\n"
          ]
        }
      ]
    },
    {
      "cell_type": "code",
      "source": [
        "# Cell 4: Step 2 — Read and Parse Label File\n",
        "\n",
        "print(\"Step 2: Parsing labels...\")\n",
        "labels_df = pd.read_excel(labels_path)\n",
        "subject_labels = {}\n",
        "\n",
        "for _, row in labels_df.iterrows():\n",
        "    patient_id = str(row['Patient ID'])\n",
        "    diagnosis = str(row['Diagnosis'])\n",
        "    if diagnosis.startswith('COPD'):\n",
        "        severity = int(diagnosis.replace('COPD', ''))\n",
        "        subject_labels[patient_id] = severity\n",
        "\n",
        "print(f\"Found labels for {len(subject_labels)} subjects\")"
      ],
      "metadata": {
        "colab": {
          "base_uri": "https://localhost:8080/"
        },
        "id": "i0cPpFQHW8PC",
        "outputId": "a7d9f066-08e9-4e0c-dfdd-c76d9b84f0a4"
      },
      "execution_count": null,
      "outputs": [
        {
          "output_type": "stream",
          "name": "stdout",
          "text": [
            "Step 2: Parsing labels...\n",
            "Found labels for 42 subjects\n"
          ]
        }
      ]
    },
    {
      "cell_type": "code",
      "source": [
        "print(subject_labels)"
      ],
      "metadata": {
        "colab": {
          "base_uri": "https://localhost:8080/"
        },
        "id": "bb9vbcMZXOKh",
        "outputId": "ec4f8013-b5be-4bbb-830c-26f56a5ea4c8"
      },
      "execution_count": null,
      "outputs": [
        {
          "output_type": "stream",
          "name": "stdout",
          "text": [
            "{'H002': 4, 'H003': 4, 'H004': 4, 'H005': 4, 'H006': 4, 'H007': 3, 'H008': 3, 'H009': 4, 'H010': 3, 'H011': 4, 'H012': 4, 'H013': 4, 'H014': 4, 'H015': 4, 'H016': 0, 'H017': 1, 'H018': 2, 'H021': 0, 'H022': 4, 'H023': 4, 'H024': 4, 'H025': 4, 'H026': 3, 'H028': 2, 'H029': 1, 'H030': 2, 'H031': 2, 'H032': 4, 'H033': 3, 'H034': 3, 'H035': 4, 'H036': 3, 'H037': 0, 'H038': 2, 'H039': 1, 'H040': 0, 'H041': 0, 'H042': 2, 'H043': 1, 'H044': 2, 'H045': 1, 'H050': 0}\n"
          ]
        }
      ]
    },
    {
      "cell_type": "code",
      "source": [
        "# Cell 5: Step 3 — Split Subjects into Healthy and Diseased\n",
        "\n",
        "healthy_subject_ids = []\n",
        "diseased_subject_ids = []\n",
        "\n",
        "for subject_id, label in subject_labels.items():\n",
        "    if subject_id in subject_files:\n",
        "        if label == 0:\n",
        "            healthy_subject_ids.append(subject_id)\n",
        "        else:\n",
        "            diseased_subject_ids.append(subject_id)\n",
        "\n",
        "print(f\"Healthy subjects: {len(healthy_subject_ids)}\")\n",
        "print(f\"Diseased subjects: {len(diseased_subject_ids)}\")"
      ],
      "metadata": {
        "colab": {
          "base_uri": "https://localhost:8080/"
        },
        "id": "oZXnYqyrXS-D",
        "outputId": "3e4d33e5-7978-4463-f839-3c6d96424647"
      },
      "execution_count": null,
      "outputs": [
        {
          "output_type": "stream",
          "name": "stdout",
          "text": [
            "Healthy subjects: 6\n",
            "Diseased subjects: 36\n"
          ]
        }
      ]
    },
    {
      "cell_type": "code",
      "source": [
        "# Cell 6: Step 6 — Processing Audio Files into Windows (Flattened)\n",
        "\n",
        "print(\"Step 6: Processing audio files into windows...\")\n",
        "all_windows = []\n",
        "\n",
        "for subject_id in tqdm(list(subject_files.keys()), desc=\"Processing subjects\"):\n",
        "    file_paths = subject_files[subject_id]\n",
        "\n",
        "    # Group files by side (L1-L6 for left, R1-R6 for right)\n",
        "    left_files = [f for f in file_paths if '_L' in f]\n",
        "    right_files = [f for f in file_paths if '_R' in f]\n",
        "\n",
        "    for side_files, side_name in [(left_files, 'L'), (right_files, 'R')]:\n",
        "        if len(side_files) < 6:\n",
        "            continue\n",
        "\n",
        "        side_files.sort(key=lambda x: int(x.split('_')[1][1:].split('.')[0]))\n",
        "\n",
        "        # Load all channels for this side\n",
        "        channel_waveforms = []\n",
        "        sr = None\n",
        "\n",
        "        for file_path in side_files[:6]:\n",
        "            try:\n",
        "                waveform, file_sr = librosa.load(file_path, sr=None)\n",
        "                waveform = (waveform - np.mean(waveform)) / (np.std(waveform) + 1e-8)\n",
        "                channel_waveforms.append(waveform)\n",
        "                if sr is None:\n",
        "                    sr = file_sr\n",
        "            except:\n",
        "                continue\n",
        "\n",
        "        if len(channel_waveforms) < 6:\n",
        "            continue\n",
        "\n",
        "        min_length = min(len(w) for w in channel_waveforms)\n",
        "        channel_waveforms = [w[:min_length] for w in channel_waveforms]\n",
        "\n",
        "        n_win = int(window_duration * sr)\n",
        "        step = int(n_win * (1 - overlap))\n",
        "        num_windows = (min_length - n_win) // step + 1\n",
        "\n",
        "        for window_idx in range(num_windows):\n",
        "            start_idx = window_idx * step\n",
        "            end_idx = start_idx + n_win\n",
        "            if end_idx > min_length:\n",
        "                break\n",
        "\n",
        "            window_melspecs = []\n",
        "            for channel_waveform in channel_waveforms:\n",
        "                window_chunk = channel_waveform[start_idx:end_idx]\n",
        "                mel_spec = librosa.feature.melspectrogram(\n",
        "                    y=window_chunk, sr=sr, n_mels=n_mels, n_fft=n_fft,\n",
        "                    hop_length=hop_length, fmin=fmin, fmax=sr // 2\n",
        "                )\n",
        "                mel_spec_db = librosa.power_to_db(mel_spec, ref=np.max)\n",
        "                window_melspecs.append(mel_spec_db)\n",
        "\n",
        "            multi_channel_window = np.stack(window_melspecs, axis=0)\n",
        "            all_windows.append((multi_channel_window, subject_id, f\"{side_name}_{window_idx}\"))\n",
        "\n",
        "print(f\"Created {len(all_windows)} windows total\")"
      ],
      "metadata": {
        "colab": {
          "base_uri": "https://localhost:8080/"
        },
        "id": "M-aj0YBTXnBw",
        "outputId": "39f850ba-240e-4fd7-b675-49db0b48ce46"
      },
      "execution_count": null,
      "outputs": [
        {
          "output_type": "stream",
          "name": "stdout",
          "text": [
            "Step 6: Processing audio files into windows...\n"
          ]
        },
        {
          "output_type": "stream",
          "name": "stderr",
          "text": [
            "Processing subjects: 100%|██████████| 42/42 [00:30<00:00,  1.37it/s]"
          ]
        },
        {
          "output_type": "stream",
          "name": "stdout",
          "text": [
            "Created 1530 windows total\n"
          ]
        },
        {
          "output_type": "stream",
          "name": "stderr",
          "text": [
            "\n"
          ]
        }
      ]
    },
    {
      "cell_type": "code",
      "source": [
        "# Cell 7: Step 7 — Build Healthy and Diseased Window Datasets\n",
        "\n",
        "healthy_windows = []\n",
        "diseased_windows = []\n",
        "\n",
        "for window_data, subject_id, window_id in all_windows:\n",
        "    if subject_id in healthy_subject_ids:\n",
        "        healthy_windows.append(window_data)\n",
        "    elif subject_id in diseased_subject_ids:\n",
        "        diseased_windows.append(window_data)\n",
        "\n",
        "print(f\"Healthy windows: {len(healthy_windows)}\")\n",
        "print(f\"Diseased windows: {len(diseased_windows)}\")"
      ],
      "metadata": {
        "colab": {
          "base_uri": "https://localhost:8080/"
        },
        "id": "XZ93IPiRXwW3",
        "outputId": "22ef5dbe-ea1e-46fb-dd02-47046d97f34d"
      },
      "execution_count": null,
      "outputs": [
        {
          "output_type": "stream",
          "name": "stdout",
          "text": [
            "Healthy windows: 229\n",
            "Diseased windows: 1301\n"
          ]
        }
      ]
    },
    {
      "cell_type": "code",
      "source": [
        "# Cell 8: Step 8 — Compute Normalization Statistics and Normalize Windows\n",
        "\n",
        "print(\"Step 8: Computing normalization statistics...\")\n",
        "if len(healthy_windows) > 0:\n",
        "    healthy_stack = np.stack(healthy_windows, axis=0)  # Shape: (N, 6, n_mels, T)\n",
        "\n",
        "    channel_stats = {}\n",
        "    for ch in range(6):\n",
        "        channel_data = healthy_stack[:, ch, :, :]\n",
        "        mean_val = np.mean(channel_data)\n",
        "        std_val = np.std(channel_data)\n",
        "        channel_stats[ch] = (mean_val, std_val)\n",
        "\n",
        "    def normalize_window(window):\n",
        "        normalized = np.zeros_like(window)\n",
        "        for ch in range(min(6, window.shape[0])):\n",
        "            mean_val, std_val = channel_stats[ch]\n",
        "            normalized[ch] = (window[ch] - mean_val) / (std_val + 1e-8)\n",
        "        return normalized\n",
        "\n",
        "    healthy_windows_norm = [normalize_window(w) for w in healthy_windows]\n",
        "    diseased_windows_norm = [normalize_window(w) for w in diseased_windows]\n",
        "\n",
        "    print(\"Normalization completed\")\n",
        "else:\n",
        "    healthy_windows_norm = healthy_windows\n",
        "    diseased_windows_norm = diseased_windows"
      ],
      "metadata": {
        "colab": {
          "base_uri": "https://localhost:8080/"
        },
        "id": "Av_Ya0KCX0WK",
        "outputId": "aade5359-ce2c-4f7b-858b-0d88488a0985"
      },
      "execution_count": null,
      "outputs": [
        {
          "output_type": "stream",
          "name": "stdout",
          "text": [
            "Step 8: Computing normalization statistics...\n",
            "Normalization completed\n"
          ]
        }
      ]
    },
    {
      "cell_type": "code",
      "source": [
        "# Cell 9: Step 9 — PyTorch Dataset Class for Healthy Windows\n",
        "\n",
        "class HealthyWindowDataset(Dataset):\n",
        "    def __init__(self, windows_list):\n",
        "        self.windows = windows_list\n",
        "\n",
        "    def __len__(self):\n",
        "        return len(self.windows)\n",
        "\n",
        "    def __getitem__(self, idx):\n",
        "        window = self.windows[idx]\n",
        "        return torch.FloatTensor(window)"
      ],
      "metadata": {
        "id": "pQumf1fKX3HR"
      },
      "execution_count": null,
      "outputs": []
    },
    {
      "cell_type": "code",
      "source": [
        "import torch\n",
        "import torch.nn as nn\n",
        "import torch.nn.functional as F\n",
        "\n",
        "class DeepCNNAutoencoder(nn.Module):\n",
        "    def __init__(self, input_channels=6, d_z=64):\n",
        "        super(DeepCNNAutoencoder, self).__init__()\n",
        "\n",
        "        # Encoder: 4 convolutional blocks\n",
        "        self.encoder = nn.Sequential(\n",
        "            nn.Conv2d(input_channels, 32, kernel_size=3, stride=2, padding=1),\n",
        "            nn.BatchNorm2d(32),\n",
        "            nn.ReLU(),\n",
        "\n",
        "            nn.Conv2d(32, 64, kernel_size=3, stride=2, padding=1),\n",
        "            nn.BatchNorm2d(64),\n",
        "            nn.ReLU(),\n",
        "\n",
        "            nn.Conv2d(64, 128, kernel_size=3, stride=2, padding=1),\n",
        "            nn.BatchNorm2d(128),\n",
        "            nn.ReLU(),\n",
        "\n",
        "            nn.Conv2d(128, 256, kernel_size=3, stride=2, padding=1),\n",
        "            nn.BatchNorm2d(256),\n",
        "            nn.ReLU()\n",
        "        )\n",
        "\n",
        "        self.flatten_size = None\n",
        "        self.encoder_fc = None\n",
        "        self.decoder_fc = None\n",
        "\n",
        "        # Decoder transpose-convolutions: mirror of encoder\n",
        "        self.decoder_conv = nn.Sequential(\n",
        "            nn.ConvTranspose2d(256, 128, kernel_size=3, stride=2, padding=1, output_padding=1),\n",
        "            nn.BatchNorm2d(128),\n",
        "            nn.ReLU(),\n",
        "\n",
        "            nn.ConvTranspose2d(128, 64, kernel_size=3, stride=2, padding=1, output_padding=1),\n",
        "            nn.BatchNorm2d(64),\n",
        "            nn.ReLU(),\n",
        "\n",
        "            nn.ConvTranspose2d(64, 32, kernel_size=3, stride=2, padding=1, output_padding=1),\n",
        "            nn.BatchNorm2d(32),\n",
        "            nn.ReLU(),\n",
        "\n",
        "            nn.ConvTranspose2d(32, input_channels, kernel_size=3, stride=2, padding=1, output_padding=1),\n",
        "            nn.Tanh()\n",
        "        )\n",
        "\n",
        "    def forward(self, x):\n",
        "        encoded = self.encoder(x)\n",
        "        batch_size, channels, H_e, W_e = encoded.shape\n",
        "        encoded_flat = encoded.view(batch_size, -1)\n",
        "\n",
        "        if self.flatten_size is None or encoded_flat.size(1) != self.flatten_size:\n",
        "            self.flatten_size = encoded_flat.size(1)\n",
        "            self.encoder_fc = nn.Linear(self.flatten_size, d_z).to(x.device)\n",
        "            self.decoder_fc = nn.Linear(d_z, self.flatten_size).to(x.device)\n",
        "\n",
        "        z = self.encoder_fc(encoded_flat)\n",
        "        decoded_flat = self.decoder_fc(z)\n",
        "        decoded_reshaped = decoded_flat.view(batch_size, channels, H_e, W_e)\n",
        "        reconstructed = self.decoder_conv(decoded_reshaped)\n",
        "\n",
        "        if reconstructed.size(2) != x.size(2) or reconstructed.size(3) != x.size(3):\n",
        "            reconstructed = F.interpolate(reconstructed, size=(x.size(2), x.size(3)))\n",
        "\n",
        "        return reconstructed"
      ],
      "metadata": {
        "id": "UvaJM0AjX5EZ"
      },
      "execution_count": null,
      "outputs": []
    },
    {
      "cell_type": "code",
      "source": [
        "# Cell 11: Step 11 — Weight Initialization Function\n",
        "\n",
        "def init_weights(m):\n",
        "    if isinstance(m, (nn.Conv2d, nn.ConvTranspose2d, nn.Linear)):\n",
        "        nn.init.xavier_uniform_(m.weight)\n",
        "        if m.bias is not None:\n",
        "            nn.init.zeros_(m.bias)"
      ],
      "metadata": {
        "id": "-d4Rqc-WX8Q0"
      },
      "execution_count": null,
      "outputs": []
    },
    {
      "cell_type": "code",
      "source": [
        "# Cell 12: Step 12 — Split Healthy Windows into Train/Validation\n",
        "\n",
        "if len(healthy_windows_norm) > 0:\n",
        "    train_windows, val_windows = train_test_split(\n",
        "        healthy_windows_norm, test_size=0.2, random_state=42\n",
        "    )\n",
        "    print(f\"Train windows: {len(train_windows)}\")\n",
        "    print(f\"Validation windows: {len(val_windows)}\")\n",
        "else:\n",
        "    print(\"No healthy windows available for training\")\n",
        "    train_windows, val_windows = [], []"
      ],
      "metadata": {
        "colab": {
          "base_uri": "https://localhost:8080/"
        },
        "id": "Jy-iRfLNX-ND",
        "outputId": "ca6bf686-7250-4b04-8e14-fbfd901a7d50"
      },
      "execution_count": null,
      "outputs": [
        {
          "output_type": "stream",
          "name": "stdout",
          "text": [
            "Train windows: 183\n",
            "Validation windows: 46\n"
          ]
        }
      ]
    },
    {
      "cell_type": "code",
      "source": [
        "# Cell 13: Step 13 — Create DataLoaders\n",
        "\n",
        "if len(train_windows) > 0:\n",
        "    train_dataset = HealthyWindowDataset(train_windows)\n",
        "    val_dataset = HealthyWindowDataset(val_windows)\n",
        "\n",
        "    train_loader = DataLoader(train_dataset, batch_size=batch_size, shuffle=True, num_workers=2)\n",
        "    val_loader = DataLoader(val_dataset, batch_size=batch_size, shuffle=False, num_workers=2)\n",
        "\n",
        "    print(\"DataLoaders created\")\n",
        "else:\n",
        "    train_loader = None\n",
        "    val_loader = None"
      ],
      "metadata": {
        "colab": {
          "base_uri": "https://localhost:8080/"
        },
        "id": "Z8jpuKs7YBEf",
        "outputId": "13335492-9344-4e09-d942-d397f90a286e"
      },
      "execution_count": null,
      "outputs": [
        {
          "output_type": "stream",
          "name": "stdout",
          "text": [
            "DataLoaders created\n"
          ]
        }
      ]
    },
    {
      "cell_type": "code",
      "source": [
        "# Cell 14: Step 14 — Train the Autoencoder\n",
        "\n",
        "if train_loader is not None and val_loader is not None:\n",
        "    print(\"Step 14: Training autoencoder...\")\n",
        "\n",
        "    # Corrected the class name from CNNAutoencoder to DeepCNNAutoencoder\n",
        "    autoencoder = DeepCNNAutoencoder(input_channels=6, d_z=d_z).to(device)\n",
        "    autoencoder.apply(init_weights)\n",
        "\n",
        "    optimizer = torch.optim.Adam(autoencoder.parameters(), lr=lr, weight_decay=weight_decay)\n",
        "    criterion = nn.L1Loss()\n",
        "\n",
        "    train_losses = []\n",
        "    val_losses = []\n",
        "    best_val_loss = float('inf')\n",
        "    patience_counter = 0\n",
        "    checkpoint_path = 'autoencoder_checkpoint.pth'\n",
        "\n",
        "    start_epoch = 0\n",
        "    if os.path.exists(checkpoint_path):\n",
        "        print(\"Loading checkpoint...\")\n",
        "        checkpoint = torch.load(checkpoint_path, map_location=device)\n",
        "        autoencoder.load_state_dict(checkpoint['model_state_dict'])\n",
        "        optimizer.load_state_dict(checkpoint['optimizer_state_dict'])\n",
        "        start_epoch = checkpoint['epoch'] + 1\n",
        "        train_losses = checkpoint['train_losses']\n",
        "        val_losses = checkpoint['val_losses']\n",
        "        best_val_loss = checkpoint['best_val_loss']\n",
        "        patience_counter = checkpoint['patience_counter']\n",
        "        print(f\"Resumed from epoch {start_epoch}\")\n",
        "\n",
        "    for epoch in range(start_epoch, num_epochs):\n",
        "        autoencoder.train()\n",
        "        train_loss = 0.0\n",
        "        train_pbar = tqdm(train_loader, desc=f'Epoch {epoch+1}/{num_epochs} [Train]')\n",
        "\n",
        "        for batch_x in train_pbar:\n",
        "            batch_x = batch_x.to(device)\n",
        "            optimizer.zero_grad()\n",
        "            reconstructed = autoencoder(batch_x)\n",
        "            loss = criterion(reconstructed, batch_x)\n",
        "            loss.backward()\n",
        "            optimizer.step()\n",
        "\n",
        "            train_loss += loss.item()\n",
        "            train_pbar.set_postfix({'loss': f'{loss.item(): .6f}'})\n",
        "\n",
        "        train_loss /= len(train_loader)\n",
        "        train_losses.append(train_loss)\n",
        "\n",
        "        autoencoder.eval()\n",
        "        val_loss = 0.0\n",
        "        val_pbar = tqdm(val_loader, desc=f'Epoch {epoch+1}/{num_epochs} [Val]')\n",
        "\n",
        "        with torch.no_grad():\n",
        "            for batch_x in val_pbar:\n",
        "                batch_x = batch_x.to(device)\n",
        "                reconstructed = autoencoder(batch_x)\n",
        "                loss = criterion(reconstructed, batch_x)\n",
        "                val_loss += loss.item()\n",
        "                val_pbar.set_postfix({'loss': f'{loss.item(): .6f}'})\n",
        "\n",
        "        val_loss /= len(val_loader)\n",
        "        val_losses.append(val_loss)\n",
        "\n",
        "        print(f'Epoch {epoch+1}: Train Loss: {train_loss:.6f}, Val Loss: {val_loss:.6f}')\n",
        "\n",
        "        checkpoint = {\n",
        "            'epoch': epoch,\n",
        "            'model_state_dict': autoencoder.state_dict(),\n",
        "            'optimizer_state_dict': optimizer.state_dict(),\n",
        "            'train_losses': train_losses,\n",
        "            'val_losses': val_losses,\n",
        "            'best_val_loss': best_val_loss,\n",
        "            'patience_counter': patience_counter\n",
        "        }\n",
        "        torch.save(checkpoint, checkpoint_path)\n",
        "\n",
        "        if val_loss < best_val_loss:\n",
        "            best_val_loss = val_loss\n",
        "            patience_counter = 0\n",
        "            torch.save(autoencoder.state_dict(), 'best_autoencoder.pth')\n",
        "        else:\n",
        "            patience_counter += 1\n",
        "\n",
        "        if patience_counter >= patience:\n",
        "            print(f'Early stopping triggered after {epoch+1} epochs')\n",
        "            break\n",
        "\n",
        "    print(\"Training completed!\")\n",
        "    autoencoder.load_state_dict(torch.load('best_autoencoder.pth', map_location=device))\n",
        "    print(\"Best model loaded\")"
      ],
      "metadata": {
        "colab": {
          "base_uri": "https://localhost:8080/"
        },
        "id": "zumXOrVZYD4u",
        "outputId": "cc362ba3-9924-450e-a0a6-fbb066a9da3d"
      },
      "execution_count": null,
      "outputs": [
        {
          "output_type": "stream",
          "name": "stdout",
          "text": [
            "Step 14: Training autoencoder...\n"
          ]
        },
        {
          "output_type": "stream",
          "name": "stderr",
          "text": [
            "Epoch 1/200 [Train]: 100%|██████████| 6/6 [00:01<00:00,  3.94it/s, loss=0.747229]\n",
            "Epoch 1/200 [Val]: 100%|██████████| 2/2 [00:00<00:00, 16.12it/s, loss=0.852806]\n"
          ]
        },
        {
          "output_type": "stream",
          "name": "stdout",
          "text": [
            "Epoch 1: Train Loss: 0.812234, Val Loss: 0.846003\n"
          ]
        },
        {
          "output_type": "stream",
          "name": "stderr",
          "text": [
            "Epoch 2/200 [Train]: 100%|██████████| 6/6 [00:00<00:00, 44.01it/s, loss=0.607331]\n",
            "Epoch 2/200 [Val]: 100%|██████████| 2/2 [00:00<00:00, 21.94it/s, loss=0.763498]\n"
          ]
        },
        {
          "output_type": "stream",
          "name": "stdout",
          "text": [
            "Epoch 2: Train Loss: 0.667890, Val Loss: 0.758578\n"
          ]
        },
        {
          "output_type": "stream",
          "name": "stderr",
          "text": [
            "Epoch 3/200 [Train]: 100%|██████████| 6/6 [00:00<00:00, 43.93it/s, loss=0.517920]\n",
            "Epoch 3/200 [Val]: 100%|██████████| 2/2 [00:00<00:00, 22.44it/s, loss=0.574343]\n"
          ]
        },
        {
          "output_type": "stream",
          "name": "stdout",
          "text": [
            "Epoch 3: Train Loss: 0.561052, Val Loss: 0.574008\n"
          ]
        },
        {
          "output_type": "stream",
          "name": "stderr",
          "text": [
            "Epoch 4/200 [Train]: 100%|██████████| 6/6 [00:00<00:00, 42.08it/s, loss=0.442668]\n",
            "Epoch 4/200 [Val]: 100%|██████████| 2/2 [00:00<00:00, 22.76it/s, loss=0.447651]\n"
          ]
        },
        {
          "output_type": "stream",
          "name": "stdout",
          "text": [
            "Epoch 4: Train Loss: 0.476406, Val Loss: 0.448659\n"
          ]
        },
        {
          "output_type": "stream",
          "name": "stderr",
          "text": [
            "Epoch 5/200 [Train]: 100%|██████████| 6/6 [00:00<00:00, 44.37it/s, loss=0.422372]\n",
            "Epoch 5/200 [Val]: 100%|██████████| 2/2 [00:00<00:00, 19.85it/s, loss=0.384836]\n"
          ]
        },
        {
          "output_type": "stream",
          "name": "stdout",
          "text": [
            "Epoch 5: Train Loss: 0.421808, Val Loss: 0.386602\n"
          ]
        },
        {
          "output_type": "stream",
          "name": "stderr",
          "text": [
            "Epoch 6/200 [Train]: 100%|██████████| 6/6 [00:00<00:00, 41.83it/s, loss=0.375640]\n",
            "Epoch 6/200 [Val]: 100%|██████████| 2/2 [00:00<00:00, 22.70it/s, loss=0.355568]\n"
          ]
        },
        {
          "output_type": "stream",
          "name": "stdout",
          "text": [
            "Epoch 6: Train Loss: 0.387147, Val Loss: 0.358320\n"
          ]
        },
        {
          "output_type": "stream",
          "name": "stderr",
          "text": [
            "Epoch 7/200 [Train]: 100%|██████████| 6/6 [00:00<00:00, 40.43it/s, loss=0.354591]\n",
            "Epoch 7/200 [Val]: 100%|██████████| 2/2 [00:00<00:00, 22.38it/s, loss=0.341029]\n"
          ]
        },
        {
          "output_type": "stream",
          "name": "stdout",
          "text": [
            "Epoch 7: Train Loss: 0.365027, Val Loss: 0.343910\n"
          ]
        },
        {
          "output_type": "stream",
          "name": "stderr",
          "text": [
            "Epoch 8/200 [Train]: 100%|██████████| 6/6 [00:00<00:00, 41.79it/s, loss=0.332143]\n",
            "Epoch 8/200 [Val]: 100%|██████████| 2/2 [00:00<00:00, 22.47it/s, loss=0.334417]\n"
          ]
        },
        {
          "output_type": "stream",
          "name": "stdout",
          "text": [
            "Epoch 8: Train Loss: 0.349453, Val Loss: 0.336900\n"
          ]
        },
        {
          "output_type": "stream",
          "name": "stderr",
          "text": [
            "Epoch 9/200 [Train]: 100%|██████████| 6/6 [00:00<00:00, 40.15it/s, loss=0.345557]\n",
            "Epoch 9/200 [Val]: 100%|██████████| 2/2 [00:00<00:00, 23.49it/s, loss=0.335494]\n"
          ]
        },
        {
          "output_type": "stream",
          "name": "stdout",
          "text": [
            "Epoch 9: Train Loss: 0.340342, Val Loss: 0.337494\n"
          ]
        },
        {
          "output_type": "stream",
          "name": "stderr",
          "text": [
            "Epoch 10/200 [Train]: 100%|██████████| 6/6 [00:00<00:00, 42.07it/s, loss=0.319259]\n",
            "Epoch 10/200 [Val]: 100%|██████████| 2/2 [00:00<00:00, 22.53it/s, loss=0.337697]\n"
          ]
        },
        {
          "output_type": "stream",
          "name": "stdout",
          "text": [
            "Epoch 10: Train Loss: 0.332159, Val Loss: 0.339480\n"
          ]
        },
        {
          "output_type": "stream",
          "name": "stderr",
          "text": [
            "Epoch 11/200 [Train]: 100%|██████████| 6/6 [00:00<00:00, 42.86it/s, loss=0.332252]\n",
            "Epoch 11/200 [Val]: 100%|██████████| 2/2 [00:00<00:00, 22.76it/s, loss=0.336763]\n"
          ]
        },
        {
          "output_type": "stream",
          "name": "stdout",
          "text": [
            "Epoch 11: Train Loss: 0.327000, Val Loss: 0.338060\n"
          ]
        },
        {
          "output_type": "stream",
          "name": "stderr",
          "text": [
            "Epoch 12/200 [Train]: 100%|██████████| 6/6 [00:00<00:00, 40.64it/s, loss=0.319920]\n",
            "Epoch 12/200 [Val]: 100%|██████████| 2/2 [00:00<00:00, 21.15it/s, loss=0.332487]\n"
          ]
        },
        {
          "output_type": "stream",
          "name": "stdout",
          "text": [
            "Epoch 12: Train Loss: 0.321259, Val Loss: 0.333096\n"
          ]
        },
        {
          "output_type": "stream",
          "name": "stderr",
          "text": [
            "Epoch 13/200 [Train]: 100%|██████████| 6/6 [00:00<00:00, 39.55it/s, loss=0.328661]\n",
            "Epoch 13/200 [Val]: 100%|██████████| 2/2 [00:00<00:00, 21.32it/s, loss=0.336011]\n"
          ]
        },
        {
          "output_type": "stream",
          "name": "stdout",
          "text": [
            "Epoch 13: Train Loss: 0.319067, Val Loss: 0.336263\n"
          ]
        },
        {
          "output_type": "stream",
          "name": "stderr",
          "text": [
            "Epoch 14/200 [Train]: 100%|██████████| 6/6 [00:00<00:00, 43.40it/s, loss=0.325768]\n",
            "Epoch 14/200 [Val]: 100%|██████████| 2/2 [00:00<00:00, 20.85it/s, loss=0.314163]\n"
          ]
        },
        {
          "output_type": "stream",
          "name": "stdout",
          "text": [
            "Epoch 14: Train Loss: 0.318212, Val Loss: 0.314870\n"
          ]
        },
        {
          "output_type": "stream",
          "name": "stderr",
          "text": [
            "Epoch 15/200 [Train]: 100%|██████████| 6/6 [00:00<00:00, 42.80it/s, loss=0.300356]\n",
            "Epoch 15/200 [Val]: 100%|██████████| 2/2 [00:00<00:00, 22.80it/s, loss=0.317184]\n"
          ]
        },
        {
          "output_type": "stream",
          "name": "stdout",
          "text": [
            "Epoch 15: Train Loss: 0.313925, Val Loss: 0.317619\n"
          ]
        },
        {
          "output_type": "stream",
          "name": "stderr",
          "text": [
            "Epoch 16/200 [Train]: 100%|██████████| 6/6 [00:00<00:00, 42.70it/s, loss=0.307176]\n",
            "Epoch 16/200 [Val]: 100%|██████████| 2/2 [00:00<00:00, 23.16it/s, loss=0.314433]\n"
          ]
        },
        {
          "output_type": "stream",
          "name": "stdout",
          "text": [
            "Epoch 16: Train Loss: 0.313500, Val Loss: 0.315307\n"
          ]
        },
        {
          "output_type": "stream",
          "name": "stderr",
          "text": [
            "Epoch 17/200 [Train]: 100%|██████████| 6/6 [00:00<00:00, 42.04it/s, loss=0.324004]\n",
            "Epoch 17/200 [Val]: 100%|██████████| 2/2 [00:00<00:00, 22.97it/s, loss=0.315846]\n"
          ]
        },
        {
          "output_type": "stream",
          "name": "stdout",
          "text": [
            "Epoch 17: Train Loss: 0.312301, Val Loss: 0.315819\n"
          ]
        },
        {
          "output_type": "stream",
          "name": "stderr",
          "text": [
            "Epoch 18/200 [Train]: 100%|██████████| 6/6 [00:00<00:00, 41.71it/s, loss=0.301919]\n",
            "Epoch 18/200 [Val]: 100%|██████████| 2/2 [00:00<00:00, 22.67it/s, loss=0.317448]\n"
          ]
        },
        {
          "output_type": "stream",
          "name": "stdout",
          "text": [
            "Epoch 18: Train Loss: 0.308860, Val Loss: 0.317985\n"
          ]
        },
        {
          "output_type": "stream",
          "name": "stderr",
          "text": [
            "Epoch 19/200 [Train]: 100%|██████████| 6/6 [00:00<00:00, 40.72it/s, loss=0.297130]\n",
            "Epoch 19/200 [Val]: 100%|██████████| 2/2 [00:00<00:00, 22.64it/s, loss=0.314451]\n"
          ]
        },
        {
          "output_type": "stream",
          "name": "stdout",
          "text": [
            "Epoch 19: Train Loss: 0.306896, Val Loss: 0.314874\n"
          ]
        },
        {
          "output_type": "stream",
          "name": "stderr",
          "text": [
            "Epoch 20/200 [Train]: 100%|██████████| 6/6 [00:00<00:00, 40.73it/s, loss=0.307589]\n",
            "Epoch 20/200 [Val]: 100%|██████████| 2/2 [00:00<00:00, 19.73it/s, loss=0.319663]\n"
          ]
        },
        {
          "output_type": "stream",
          "name": "stdout",
          "text": [
            "Epoch 20: Train Loss: 0.306277, Val Loss: 0.320077\n"
          ]
        },
        {
          "output_type": "stream",
          "name": "stderr",
          "text": [
            "Epoch 21/200 [Train]: 100%|██████████| 6/6 [00:00<00:00, 41.92it/s, loss=0.306155]\n",
            "Epoch 21/200 [Val]: 100%|██████████| 2/2 [00:00<00:00, 22.25it/s, loss=0.313909]\n"
          ]
        },
        {
          "output_type": "stream",
          "name": "stdout",
          "text": [
            "Epoch 21: Train Loss: 0.305894, Val Loss: 0.313473\n"
          ]
        },
        {
          "output_type": "stream",
          "name": "stderr",
          "text": [
            "Epoch 22/200 [Train]: 100%|██████████| 6/6 [00:00<00:00, 34.39it/s, loss=0.316510]\n",
            "Epoch 22/200 [Val]: 100%|██████████| 2/2 [00:00<00:00, 15.41it/s, loss=0.318511]\n"
          ]
        },
        {
          "output_type": "stream",
          "name": "stdout",
          "text": [
            "Epoch 22: Train Loss: 0.304217, Val Loss: 0.318214\n"
          ]
        },
        {
          "output_type": "stream",
          "name": "stderr",
          "text": [
            "Epoch 23/200 [Train]: 100%|██████████| 6/6 [00:00<00:00, 29.59it/s, loss=0.299680]\n",
            "Epoch 23/200 [Val]: 100%|██████████| 2/2 [00:00<00:00, 11.55it/s, loss=0.307710]\n"
          ]
        },
        {
          "output_type": "stream",
          "name": "stdout",
          "text": [
            "Epoch 23: Train Loss: 0.302342, Val Loss: 0.307181\n"
          ]
        },
        {
          "output_type": "stream",
          "name": "stderr",
          "text": [
            "Epoch 24/200 [Train]: 100%|██████████| 6/6 [00:00<00:00, 26.67it/s, loss=0.297642]\n",
            "Epoch 24/200 [Val]: 100%|██████████| 2/2 [00:00<00:00, 15.14it/s, loss=0.316210]\n"
          ]
        },
        {
          "output_type": "stream",
          "name": "stdout",
          "text": [
            "Epoch 24: Train Loss: 0.300279, Val Loss: 0.314555\n"
          ]
        },
        {
          "output_type": "stream",
          "name": "stderr",
          "text": [
            "Epoch 25/200 [Train]: 100%|██████████| 6/6 [00:00<00:00, 30.34it/s, loss=0.295996]\n",
            "Epoch 25/200 [Val]: 100%|██████████| 2/2 [00:00<00:00, 14.85it/s, loss=0.309629]\n"
          ]
        },
        {
          "output_type": "stream",
          "name": "stdout",
          "text": [
            "Epoch 25: Train Loss: 0.299324, Val Loss: 0.307619\n"
          ]
        },
        {
          "output_type": "stream",
          "name": "stderr",
          "text": [
            "Epoch 26/200 [Train]: 100%|██████████| 6/6 [00:00<00:00, 28.54it/s, loss=0.296016]\n",
            "Epoch 26/200 [Val]: 100%|██████████| 2/2 [00:00<00:00, 12.87it/s, loss=0.318565]\n"
          ]
        },
        {
          "output_type": "stream",
          "name": "stdout",
          "text": [
            "Epoch 26: Train Loss: 0.298137, Val Loss: 0.314709\n"
          ]
        },
        {
          "output_type": "stream",
          "name": "stderr",
          "text": [
            "Epoch 27/200 [Train]: 100%|██████████| 6/6 [00:00<00:00, 27.94it/s, loss=0.283874]\n",
            "Epoch 27/200 [Val]: 100%|██████████| 2/2 [00:00<00:00, 14.71it/s, loss=0.310733]\n"
          ]
        },
        {
          "output_type": "stream",
          "name": "stdout",
          "text": [
            "Epoch 27: Train Loss: 0.295090, Val Loss: 0.307953\n"
          ]
        },
        {
          "output_type": "stream",
          "name": "stderr",
          "text": [
            "Epoch 28/200 [Train]: 100%|██████████| 6/6 [00:00<00:00, 28.42it/s, loss=0.282270]\n",
            "Epoch 28/200 [Val]: 100%|██████████| 2/2 [00:00<00:00, 22.39it/s, loss=0.308800]\n"
          ]
        },
        {
          "output_type": "stream",
          "name": "stdout",
          "text": [
            "Epoch 28: Train Loss: 0.292647, Val Loss: 0.305098\n"
          ]
        },
        {
          "output_type": "stream",
          "name": "stderr",
          "text": [
            "Epoch 29/200 [Train]: 100%|██████████| 6/6 [00:00<00:00, 37.40it/s, loss=0.290620]\n",
            "Epoch 29/200 [Val]: 100%|██████████| 2/2 [00:00<00:00, 21.63it/s, loss=0.307478]\n"
          ]
        },
        {
          "output_type": "stream",
          "name": "stdout",
          "text": [
            "Epoch 29: Train Loss: 0.292547, Val Loss: 0.304228\n"
          ]
        },
        {
          "output_type": "stream",
          "name": "stderr",
          "text": [
            "Epoch 30/200 [Train]: 100%|██████████| 6/6 [00:00<00:00, 43.27it/s, loss=0.289732]\n",
            "Epoch 30/200 [Val]: 100%|██████████| 2/2 [00:00<00:00, 23.03it/s, loss=0.304098]\n"
          ]
        },
        {
          "output_type": "stream",
          "name": "stdout",
          "text": [
            "Epoch 30: Train Loss: 0.291263, Val Loss: 0.299596\n"
          ]
        },
        {
          "output_type": "stream",
          "name": "stderr",
          "text": [
            "Epoch 31/200 [Train]: 100%|██████████| 6/6 [00:00<00:00, 42.55it/s, loss=0.273814]\n",
            "Epoch 31/200 [Val]: 100%|██████████| 2/2 [00:00<00:00, 20.83it/s, loss=0.300527]\n"
          ]
        },
        {
          "output_type": "stream",
          "name": "stdout",
          "text": [
            "Epoch 31: Train Loss: 0.288213, Val Loss: 0.295850\n"
          ]
        },
        {
          "output_type": "stream",
          "name": "stderr",
          "text": [
            "Epoch 32/200 [Train]: 100%|██████████| 6/6 [00:00<00:00, 42.41it/s, loss=0.290545]\n",
            "Epoch 32/200 [Val]: 100%|██████████| 2/2 [00:00<00:00, 20.18it/s, loss=0.302396]\n"
          ]
        },
        {
          "output_type": "stream",
          "name": "stdout",
          "text": [
            "Epoch 32: Train Loss: 0.286614, Val Loss: 0.297504\n"
          ]
        },
        {
          "output_type": "stream",
          "name": "stderr",
          "text": [
            "Epoch 33/200 [Train]: 100%|██████████| 6/6 [00:00<00:00, 41.10it/s, loss=0.281740]\n",
            "Epoch 33/200 [Val]: 100%|██████████| 2/2 [00:00<00:00, 22.68it/s, loss=0.300197]\n"
          ]
        },
        {
          "output_type": "stream",
          "name": "stdout",
          "text": [
            "Epoch 33: Train Loss: 0.284755, Val Loss: 0.295158\n"
          ]
        },
        {
          "output_type": "stream",
          "name": "stderr",
          "text": [
            "Epoch 34/200 [Train]: 100%|██████████| 6/6 [00:00<00:00, 44.27it/s, loss=0.282931]\n",
            "Epoch 34/200 [Val]: 100%|██████████| 2/2 [00:00<00:00, 22.22it/s, loss=0.302463]\n"
          ]
        },
        {
          "output_type": "stream",
          "name": "stdout",
          "text": [
            "Epoch 34: Train Loss: 0.285630, Val Loss: 0.297222\n"
          ]
        },
        {
          "output_type": "stream",
          "name": "stderr",
          "text": [
            "Epoch 35/200 [Train]: 100%|██████████| 6/6 [00:00<00:00, 40.18it/s, loss=0.283022]\n",
            "Epoch 35/200 [Val]: 100%|██████████| 2/2 [00:00<00:00, 21.79it/s, loss=0.309876]\n"
          ]
        },
        {
          "output_type": "stream",
          "name": "stdout",
          "text": [
            "Epoch 35: Train Loss: 0.284635, Val Loss: 0.303694\n"
          ]
        },
        {
          "output_type": "stream",
          "name": "stderr",
          "text": [
            "Epoch 36/200 [Train]: 100%|██████████| 6/6 [00:00<00:00, 40.82it/s, loss=0.286734]\n",
            "Epoch 36/200 [Val]: 100%|██████████| 2/2 [00:00<00:00, 17.79it/s, loss=0.299161]\n"
          ]
        },
        {
          "output_type": "stream",
          "name": "stdout",
          "text": [
            "Epoch 36: Train Loss: 0.285666, Val Loss: 0.293234\n"
          ]
        },
        {
          "output_type": "stream",
          "name": "stderr",
          "text": [
            "Epoch 37/200 [Train]: 100%|██████████| 6/6 [00:00<00:00, 42.45it/s, loss=0.284989]\n",
            "Epoch 37/200 [Val]: 100%|██████████| 2/2 [00:00<00:00, 22.05it/s, loss=0.303812]\n"
          ]
        },
        {
          "output_type": "stream",
          "name": "stdout",
          "text": [
            "Epoch 37: Train Loss: 0.282955, Val Loss: 0.298125\n"
          ]
        },
        {
          "output_type": "stream",
          "name": "stderr",
          "text": [
            "Epoch 38/200 [Train]: 100%|██████████| 6/6 [00:00<00:00, 44.21it/s, loss=0.279210]\n",
            "Epoch 38/200 [Val]: 100%|██████████| 2/2 [00:00<00:00, 22.51it/s, loss=0.303104]\n"
          ]
        },
        {
          "output_type": "stream",
          "name": "stdout",
          "text": [
            "Epoch 38: Train Loss: 0.281614, Val Loss: 0.297612\n"
          ]
        },
        {
          "output_type": "stream",
          "name": "stderr",
          "text": [
            "Epoch 39/200 [Train]: 100%|██████████| 6/6 [00:00<00:00, 39.67it/s, loss=0.272011]\n",
            "Epoch 39/200 [Val]: 100%|██████████| 2/2 [00:00<00:00, 22.20it/s, loss=0.300410]\n"
          ]
        },
        {
          "output_type": "stream",
          "name": "stdout",
          "text": [
            "Epoch 39: Train Loss: 0.279148, Val Loss: 0.293826\n"
          ]
        },
        {
          "output_type": "stream",
          "name": "stderr",
          "text": [
            "Epoch 40/200 [Train]: 100%|██████████| 6/6 [00:00<00:00, 38.37it/s, loss=0.265972]\n",
            "Epoch 40/200 [Val]: 100%|██████████| 2/2 [00:00<00:00, 22.07it/s, loss=0.301664]\n"
          ]
        },
        {
          "output_type": "stream",
          "name": "stdout",
          "text": [
            "Epoch 40: Train Loss: 0.278913, Val Loss: 0.295294\n"
          ]
        },
        {
          "output_type": "stream",
          "name": "stderr",
          "text": [
            "Epoch 41/200 [Train]: 100%|██████████| 6/6 [00:00<00:00, 43.62it/s, loss=0.278749]\n",
            "Epoch 41/200 [Val]: 100%|██████████| 2/2 [00:00<00:00, 22.77it/s, loss=0.301912]\n"
          ]
        },
        {
          "output_type": "stream",
          "name": "stdout",
          "text": [
            "Epoch 41: Train Loss: 0.280551, Val Loss: 0.295062\n"
          ]
        },
        {
          "output_type": "stream",
          "name": "stderr",
          "text": [
            "Epoch 42/200 [Train]: 100%|██████████| 6/6 [00:00<00:00, 43.29it/s, loss=0.274562]\n",
            "Epoch 42/200 [Val]: 100%|██████████| 2/2 [00:00<00:00, 21.08it/s, loss=0.295037]\n"
          ]
        },
        {
          "output_type": "stream",
          "name": "stdout",
          "text": [
            "Epoch 42: Train Loss: 0.279056, Val Loss: 0.289188\n"
          ]
        },
        {
          "output_type": "stream",
          "name": "stderr",
          "text": [
            "Epoch 43/200 [Train]: 100%|██████████| 6/6 [00:00<00:00, 41.98it/s, loss=0.282334]\n",
            "Epoch 43/200 [Val]: 100%|██████████| 2/2 [00:00<00:00, 21.28it/s, loss=0.294708]\n"
          ]
        },
        {
          "output_type": "stream",
          "name": "stdout",
          "text": [
            "Epoch 43: Train Loss: 0.279059, Val Loss: 0.288754\n"
          ]
        },
        {
          "output_type": "stream",
          "name": "stderr",
          "text": [
            "Epoch 44/200 [Train]: 100%|██████████| 6/6 [00:00<00:00, 36.41it/s, loss=0.295898]\n",
            "Epoch 44/200 [Val]: 100%|██████████| 2/2 [00:00<00:00, 21.05it/s, loss=0.295125]\n"
          ]
        },
        {
          "output_type": "stream",
          "name": "stdout",
          "text": [
            "Epoch 44: Train Loss: 0.278543, Val Loss: 0.288762\n"
          ]
        },
        {
          "output_type": "stream",
          "name": "stderr",
          "text": [
            "Epoch 45/200 [Train]: 100%|██████████| 6/6 [00:00<00:00, 43.18it/s, loss=0.283879]\n",
            "Epoch 45/200 [Val]: 100%|██████████| 2/2 [00:00<00:00, 22.80it/s, loss=0.299839]\n"
          ]
        },
        {
          "output_type": "stream",
          "name": "stdout",
          "text": [
            "Epoch 45: Train Loss: 0.276908, Val Loss: 0.293982\n"
          ]
        },
        {
          "output_type": "stream",
          "name": "stderr",
          "text": [
            "Epoch 46/200 [Train]: 100%|██████████| 6/6 [00:00<00:00, 42.50it/s, loss=0.277692]\n",
            "Epoch 46/200 [Val]: 100%|██████████| 2/2 [00:00<00:00, 23.09it/s, loss=0.295599]\n"
          ]
        },
        {
          "output_type": "stream",
          "name": "stdout",
          "text": [
            "Epoch 46: Train Loss: 0.276373, Val Loss: 0.288646\n"
          ]
        },
        {
          "output_type": "stream",
          "name": "stderr",
          "text": [
            "Epoch 47/200 [Train]: 100%|██████████| 6/6 [00:00<00:00, 42.95it/s, loss=0.275212]\n",
            "Epoch 47/200 [Val]: 100%|██████████| 2/2 [00:00<00:00, 20.78it/s, loss=0.301949]\n"
          ]
        },
        {
          "output_type": "stream",
          "name": "stdout",
          "text": [
            "Epoch 47: Train Loss: 0.276824, Val Loss: 0.294945\n"
          ]
        },
        {
          "output_type": "stream",
          "name": "stderr",
          "text": [
            "Epoch 48/200 [Train]: 100%|██████████| 6/6 [00:00<00:00, 41.73it/s, loss=0.287845]\n",
            "Epoch 48/200 [Val]: 100%|██████████| 2/2 [00:00<00:00, 23.03it/s, loss=0.295578]\n"
          ]
        },
        {
          "output_type": "stream",
          "name": "stdout",
          "text": [
            "Epoch 48: Train Loss: 0.277193, Val Loss: 0.288581\n"
          ]
        },
        {
          "output_type": "stream",
          "name": "stderr",
          "text": [
            "Epoch 49/200 [Train]: 100%|██████████| 6/6 [00:00<00:00, 42.80it/s, loss=0.274132]\n",
            "Epoch 49/200 [Val]: 100%|██████████| 2/2 [00:00<00:00, 23.03it/s, loss=0.295498]\n"
          ]
        },
        {
          "output_type": "stream",
          "name": "stdout",
          "text": [
            "Epoch 49: Train Loss: 0.275488, Val Loss: 0.289511\n"
          ]
        },
        {
          "output_type": "stream",
          "name": "stderr",
          "text": [
            "Epoch 50/200 [Train]: 100%|██████████| 6/6 [00:00<00:00, 41.58it/s, loss=0.266663]\n",
            "Epoch 50/200 [Val]: 100%|██████████| 2/2 [00:00<00:00, 21.79it/s, loss=0.294222]\n"
          ]
        },
        {
          "output_type": "stream",
          "name": "stdout",
          "text": [
            "Epoch 50: Train Loss: 0.274735, Val Loss: 0.287448\n"
          ]
        },
        {
          "output_type": "stream",
          "name": "stderr",
          "text": [
            "Epoch 51/200 [Train]: 100%|██████████| 6/6 [00:00<00:00, 39.37it/s, loss=0.285540]\n",
            "Epoch 51/200 [Val]: 100%|██████████| 2/2 [00:00<00:00, 18.25it/s, loss=0.294586]\n"
          ]
        },
        {
          "output_type": "stream",
          "name": "stdout",
          "text": [
            "Epoch 51: Train Loss: 0.273716, Val Loss: 0.287813\n"
          ]
        },
        {
          "output_type": "stream",
          "name": "stderr",
          "text": [
            "Epoch 52/200 [Train]: 100%|██████████| 6/6 [00:00<00:00, 42.79it/s, loss=0.272871]\n",
            "Epoch 52/200 [Val]: 100%|██████████| 2/2 [00:00<00:00, 23.67it/s, loss=0.296564]\n"
          ]
        },
        {
          "output_type": "stream",
          "name": "stdout",
          "text": [
            "Epoch 52: Train Loss: 0.272355, Val Loss: 0.289608\n"
          ]
        },
        {
          "output_type": "stream",
          "name": "stderr",
          "text": [
            "Epoch 53/200 [Train]: 100%|██████████| 6/6 [00:00<00:00, 42.05it/s, loss=0.267985]\n",
            "Epoch 53/200 [Val]: 100%|██████████| 2/2 [00:00<00:00, 23.39it/s, loss=0.293644]\n"
          ]
        },
        {
          "output_type": "stream",
          "name": "stdout",
          "text": [
            "Epoch 53: Train Loss: 0.270213, Val Loss: 0.286697\n"
          ]
        },
        {
          "output_type": "stream",
          "name": "stderr",
          "text": [
            "Epoch 54/200 [Train]: 100%|██████████| 6/6 [00:00<00:00, 40.03it/s, loss=0.269535]\n",
            "Epoch 54/200 [Val]: 100%|██████████| 2/2 [00:00<00:00, 21.13it/s, loss=0.292860]\n"
          ]
        },
        {
          "output_type": "stream",
          "name": "stdout",
          "text": [
            "Epoch 54: Train Loss: 0.269846, Val Loss: 0.286281\n"
          ]
        },
        {
          "output_type": "stream",
          "name": "stderr",
          "text": [
            "Epoch 55/200 [Train]: 100%|██████████| 6/6 [00:00<00:00, 35.36it/s, loss=0.273152]\n",
            "Epoch 55/200 [Val]: 100%|██████████| 2/2 [00:00<00:00, 21.94it/s, loss=0.291491]\n"
          ]
        },
        {
          "output_type": "stream",
          "name": "stdout",
          "text": [
            "Epoch 55: Train Loss: 0.270139, Val Loss: 0.285023\n"
          ]
        },
        {
          "output_type": "stream",
          "name": "stderr",
          "text": [
            "Epoch 56/200 [Train]: 100%|██████████| 6/6 [00:00<00:00, 40.97it/s, loss=0.291001]\n",
            "Epoch 56/200 [Val]: 100%|██████████| 2/2 [00:00<00:00, 22.64it/s, loss=0.292092]\n"
          ]
        },
        {
          "output_type": "stream",
          "name": "stdout",
          "text": [
            "Epoch 56: Train Loss: 0.270727, Val Loss: 0.285233\n"
          ]
        },
        {
          "output_type": "stream",
          "name": "stderr",
          "text": [
            "Epoch 57/200 [Train]: 100%|██████████| 6/6 [00:00<00:00, 42.15it/s, loss=0.262037]\n",
            "Epoch 57/200 [Val]: 100%|██████████| 2/2 [00:00<00:00, 21.36it/s, loss=0.292335]\n"
          ]
        },
        {
          "output_type": "stream",
          "name": "stdout",
          "text": [
            "Epoch 57: Train Loss: 0.267312, Val Loss: 0.285403\n"
          ]
        },
        {
          "output_type": "stream",
          "name": "stderr",
          "text": [
            "Epoch 58/200 [Train]: 100%|██████████| 6/6 [00:00<00:00, 40.43it/s, loss=0.270165]\n",
            "Epoch 58/200 [Val]: 100%|██████████| 2/2 [00:00<00:00, 22.03it/s, loss=0.290371]\n"
          ]
        },
        {
          "output_type": "stream",
          "name": "stdout",
          "text": [
            "Epoch 58: Train Loss: 0.267624, Val Loss: 0.283619\n"
          ]
        },
        {
          "output_type": "stream",
          "name": "stderr",
          "text": [
            "Epoch 59/200 [Train]: 100%|██████████| 6/6 [00:00<00:00, 42.88it/s, loss=0.249650]\n",
            "Epoch 59/200 [Val]: 100%|██████████| 2/2 [00:00<00:00, 22.76it/s, loss=0.293682]\n"
          ]
        },
        {
          "output_type": "stream",
          "name": "stdout",
          "text": [
            "Epoch 59: Train Loss: 0.265942, Val Loss: 0.287013\n"
          ]
        },
        {
          "output_type": "stream",
          "name": "stderr",
          "text": [
            "Epoch 60/200 [Train]: 100%|██████████| 6/6 [00:00<00:00, 43.08it/s, loss=0.271894]\n",
            "Epoch 60/200 [Val]: 100%|██████████| 2/2 [00:00<00:00, 23.17it/s, loss=0.294352]\n"
          ]
        },
        {
          "output_type": "stream",
          "name": "stdout",
          "text": [
            "Epoch 60: Train Loss: 0.266554, Val Loss: 0.287796\n"
          ]
        },
        {
          "output_type": "stream",
          "name": "stderr",
          "text": [
            "Epoch 61/200 [Train]: 100%|██████████| 6/6 [00:00<00:00, 42.42it/s, loss=0.265144]\n",
            "Epoch 61/200 [Val]: 100%|██████████| 2/2 [00:00<00:00, 22.59it/s, loss=0.293504]\n"
          ]
        },
        {
          "output_type": "stream",
          "name": "stdout",
          "text": [
            "Epoch 61: Train Loss: 0.265924, Val Loss: 0.286580\n"
          ]
        },
        {
          "output_type": "stream",
          "name": "stderr",
          "text": [
            "Epoch 62/200 [Train]: 100%|██████████| 6/6 [00:00<00:00, 41.41it/s, loss=0.279772]\n",
            "Epoch 62/200 [Val]: 100%|██████████| 2/2 [00:00<00:00, 19.74it/s, loss=0.293612]\n"
          ]
        },
        {
          "output_type": "stream",
          "name": "stdout",
          "text": [
            "Epoch 62: Train Loss: 0.266844, Val Loss: 0.286212\n"
          ]
        },
        {
          "output_type": "stream",
          "name": "stderr",
          "text": [
            "Epoch 63/200 [Train]: 100%|██████████| 6/6 [00:00<00:00, 41.37it/s, loss=0.256857]\n",
            "Epoch 63/200 [Val]: 100%|██████████| 2/2 [00:00<00:00, 22.10it/s, loss=0.290539]\n"
          ]
        },
        {
          "output_type": "stream",
          "name": "stdout",
          "text": [
            "Epoch 63: Train Loss: 0.264497, Val Loss: 0.284101\n"
          ]
        },
        {
          "output_type": "stream",
          "name": "stderr",
          "text": [
            "Epoch 64/200 [Train]: 100%|██████████| 6/6 [00:00<00:00, 32.92it/s, loss=0.260556]\n",
            "Epoch 64/200 [Val]: 100%|██████████| 2/2 [00:00<00:00, 14.23it/s, loss=0.291969]\n"
          ]
        },
        {
          "output_type": "stream",
          "name": "stdout",
          "text": [
            "Epoch 64: Train Loss: 0.264010, Val Loss: 0.285263\n"
          ]
        },
        {
          "output_type": "stream",
          "name": "stderr",
          "text": [
            "Epoch 65/200 [Train]: 100%|██████████| 6/6 [00:00<00:00, 28.53it/s, loss=0.267419]\n",
            "Epoch 65/200 [Val]: 100%|██████████| 2/2 [00:00<00:00, 13.67it/s, loss=0.289469]\n"
          ]
        },
        {
          "output_type": "stream",
          "name": "stdout",
          "text": [
            "Epoch 65: Train Loss: 0.264087, Val Loss: 0.283170\n"
          ]
        },
        {
          "output_type": "stream",
          "name": "stderr",
          "text": [
            "Epoch 66/200 [Train]: 100%|██████████| 6/6 [00:00<00:00, 27.57it/s, loss=0.262438]\n",
            "Epoch 66/200 [Val]: 100%|██████████| 2/2 [00:00<00:00, 14.74it/s, loss=0.285080]\n"
          ]
        },
        {
          "output_type": "stream",
          "name": "stdout",
          "text": [
            "Epoch 66: Train Loss: 0.263133, Val Loss: 0.279103\n"
          ]
        },
        {
          "output_type": "stream",
          "name": "stderr",
          "text": [
            "Epoch 67/200 [Train]: 100%|██████████| 6/6 [00:00<00:00, 28.73it/s, loss=0.273803]\n",
            "Epoch 67/200 [Val]: 100%|██████████| 2/2 [00:00<00:00, 13.67it/s, loss=0.287425]\n"
          ]
        },
        {
          "output_type": "stream",
          "name": "stdout",
          "text": [
            "Epoch 67: Train Loss: 0.263098, Val Loss: 0.280785\n"
          ]
        },
        {
          "output_type": "stream",
          "name": "stderr",
          "text": [
            "Epoch 68/200 [Train]: 100%|██████████| 6/6 [00:00<00:00, 27.61it/s, loss=0.254730]\n",
            "Epoch 68/200 [Val]: 100%|██████████| 2/2 [00:00<00:00, 14.16it/s, loss=0.288326]\n"
          ]
        },
        {
          "output_type": "stream",
          "name": "stdout",
          "text": [
            "Epoch 68: Train Loss: 0.261960, Val Loss: 0.281498\n"
          ]
        },
        {
          "output_type": "stream",
          "name": "stderr",
          "text": [
            "Epoch 69/200 [Train]: 100%|██████████| 6/6 [00:00<00:00, 25.77it/s, loss=0.263808]\n",
            "Epoch 69/200 [Val]: 100%|██████████| 2/2 [00:00<00:00, 14.25it/s, loss=0.292971]\n"
          ]
        },
        {
          "output_type": "stream",
          "name": "stdout",
          "text": [
            "Epoch 69: Train Loss: 0.263199, Val Loss: 0.286615\n"
          ]
        },
        {
          "output_type": "stream",
          "name": "stderr",
          "text": [
            "Epoch 70/200 [Train]: 100%|██████████| 6/6 [00:00<00:00, 27.58it/s, loss=0.261623]\n",
            "Epoch 70/200 [Val]: 100%|██████████| 2/2 [00:00<00:00, 17.98it/s, loss=0.289459]\n"
          ]
        },
        {
          "output_type": "stream",
          "name": "stdout",
          "text": [
            "Epoch 70: Train Loss: 0.260933, Val Loss: 0.282867\n"
          ]
        },
        {
          "output_type": "stream",
          "name": "stderr",
          "text": [
            "Epoch 71/200 [Train]: 100%|██████████| 6/6 [00:00<00:00, 41.71it/s, loss=0.254668]\n",
            "Epoch 71/200 [Val]: 100%|██████████| 2/2 [00:00<00:00, 22.43it/s, loss=0.284924]\n"
          ]
        },
        {
          "output_type": "stream",
          "name": "stdout",
          "text": [
            "Epoch 71: Train Loss: 0.260097, Val Loss: 0.278302\n"
          ]
        },
        {
          "output_type": "stream",
          "name": "stderr",
          "text": [
            "Epoch 72/200 [Train]: 100%|██████████| 6/6 [00:00<00:00, 38.89it/s, loss=0.266420]\n",
            "Epoch 72/200 [Val]: 100%|██████████| 2/2 [00:00<00:00, 21.43it/s, loss=0.285305]\n"
          ]
        },
        {
          "output_type": "stream",
          "name": "stdout",
          "text": [
            "Epoch 72: Train Loss: 0.260979, Val Loss: 0.279235\n"
          ]
        },
        {
          "output_type": "stream",
          "name": "stderr",
          "text": [
            "Epoch 73/200 [Train]: 100%|██████████| 6/6 [00:00<00:00, 37.99it/s, loss=0.253060]\n",
            "Epoch 73/200 [Val]: 100%|██████████| 2/2 [00:00<00:00, 21.33it/s, loss=0.287640]\n"
          ]
        },
        {
          "output_type": "stream",
          "name": "stdout",
          "text": [
            "Epoch 73: Train Loss: 0.259156, Val Loss: 0.280760\n"
          ]
        },
        {
          "output_type": "stream",
          "name": "stderr",
          "text": [
            "Epoch 74/200 [Train]: 100%|██████████| 6/6 [00:00<00:00, 33.95it/s, loss=0.271764]\n",
            "Epoch 74/200 [Val]: 100%|██████████| 2/2 [00:00<00:00, 21.19it/s, loss=0.282953]\n"
          ]
        },
        {
          "output_type": "stream",
          "name": "stdout",
          "text": [
            "Epoch 74: Train Loss: 0.259401, Val Loss: 0.276998\n"
          ]
        },
        {
          "output_type": "stream",
          "name": "stderr",
          "text": [
            "Epoch 75/200 [Train]: 100%|██████████| 6/6 [00:00<00:00, 40.88it/s, loss=0.250039]\n",
            "Epoch 75/200 [Val]: 100%|██████████| 2/2 [00:00<00:00, 21.66it/s, loss=0.282517]\n"
          ]
        },
        {
          "output_type": "stream",
          "name": "stdout",
          "text": [
            "Epoch 75: Train Loss: 0.257844, Val Loss: 0.276601\n"
          ]
        },
        {
          "output_type": "stream",
          "name": "stderr",
          "text": [
            "Epoch 76/200 [Train]: 100%|██████████| 6/6 [00:00<00:00, 41.08it/s, loss=0.257246]\n",
            "Epoch 76/200 [Val]: 100%|██████████| 2/2 [00:00<00:00, 22.26it/s, loss=0.283917]\n"
          ]
        },
        {
          "output_type": "stream",
          "name": "stdout",
          "text": [
            "Epoch 76: Train Loss: 0.257684, Val Loss: 0.277781\n"
          ]
        },
        {
          "output_type": "stream",
          "name": "stderr",
          "text": [
            "Epoch 77/200 [Train]: 100%|██████████| 6/6 [00:00<00:00, 41.47it/s, loss=0.256819]\n",
            "Epoch 77/200 [Val]: 100%|██████████| 2/2 [00:00<00:00, 21.72it/s, loss=0.281397]\n"
          ]
        },
        {
          "output_type": "stream",
          "name": "stdout",
          "text": [
            "Epoch 77: Train Loss: 0.257775, Val Loss: 0.275691\n"
          ]
        },
        {
          "output_type": "stream",
          "name": "stderr",
          "text": [
            "Epoch 78/200 [Train]: 100%|██████████| 6/6 [00:00<00:00, 38.41it/s, loss=0.265101]\n",
            "Epoch 78/200 [Val]: 100%|██████████| 2/2 [00:00<00:00, 22.64it/s, loss=0.282827]\n"
          ]
        },
        {
          "output_type": "stream",
          "name": "stdout",
          "text": [
            "Epoch 78: Train Loss: 0.257035, Val Loss: 0.276351\n"
          ]
        },
        {
          "output_type": "stream",
          "name": "stderr",
          "text": [
            "Epoch 79/200 [Train]: 100%|██████████| 6/6 [00:00<00:00, 40.44it/s, loss=0.253572]\n",
            "Epoch 79/200 [Val]: 100%|██████████| 2/2 [00:00<00:00, 21.44it/s, loss=0.283490]\n"
          ]
        },
        {
          "output_type": "stream",
          "name": "stdout",
          "text": [
            "Epoch 79: Train Loss: 0.257675, Val Loss: 0.277321\n"
          ]
        },
        {
          "output_type": "stream",
          "name": "stderr",
          "text": [
            "Epoch 80/200 [Train]: 100%|██████████| 6/6 [00:00<00:00, 41.72it/s, loss=0.253343]\n",
            "Epoch 80/200 [Val]: 100%|██████████| 2/2 [00:00<00:00, 21.28it/s, loss=0.283754]\n"
          ]
        },
        {
          "output_type": "stream",
          "name": "stdout",
          "text": [
            "Epoch 80: Train Loss: 0.255187, Val Loss: 0.277989\n"
          ]
        },
        {
          "output_type": "stream",
          "name": "stderr",
          "text": [
            "Epoch 81/200 [Train]: 100%|██████████| 6/6 [00:00<00:00, 41.88it/s, loss=0.254603]\n",
            "Epoch 81/200 [Val]: 100%|██████████| 2/2 [00:00<00:00, 19.16it/s, loss=0.282041]\n"
          ]
        },
        {
          "output_type": "stream",
          "name": "stdout",
          "text": [
            "Epoch 81: Train Loss: 0.254210, Val Loss: 0.275983\n"
          ]
        },
        {
          "output_type": "stream",
          "name": "stderr",
          "text": [
            "Epoch 82/200 [Train]: 100%|██████████| 6/6 [00:00<00:00, 42.48it/s, loss=0.258010]\n",
            "Epoch 82/200 [Val]: 100%|██████████| 2/2 [00:00<00:00, 21.49it/s, loss=0.280105]\n"
          ]
        },
        {
          "output_type": "stream",
          "name": "stdout",
          "text": [
            "Epoch 82: Train Loss: 0.253501, Val Loss: 0.274219\n"
          ]
        },
        {
          "output_type": "stream",
          "name": "stderr",
          "text": [
            "Epoch 83/200 [Train]: 100%|██████████| 6/6 [00:00<00:00, 42.89it/s, loss=0.256635]\n",
            "Epoch 83/200 [Val]: 100%|██████████| 2/2 [00:00<00:00, 22.29it/s, loss=0.284408]\n"
          ]
        },
        {
          "output_type": "stream",
          "name": "stdout",
          "text": [
            "Epoch 83: Train Loss: 0.253310, Val Loss: 0.278383\n"
          ]
        },
        {
          "output_type": "stream",
          "name": "stderr",
          "text": [
            "Epoch 84/200 [Train]: 100%|██████████| 6/6 [00:00<00:00, 41.55it/s, loss=0.251268]\n",
            "Epoch 84/200 [Val]: 100%|██████████| 2/2 [00:00<00:00, 22.21it/s, loss=0.280761]\n"
          ]
        },
        {
          "output_type": "stream",
          "name": "stdout",
          "text": [
            "Epoch 84: Train Loss: 0.251790, Val Loss: 0.274277\n"
          ]
        },
        {
          "output_type": "stream",
          "name": "stderr",
          "text": [
            "Epoch 85/200 [Train]: 100%|██████████| 6/6 [00:00<00:00, 38.90it/s, loss=0.254584]\n",
            "Epoch 85/200 [Val]: 100%|██████████| 2/2 [00:00<00:00, 21.63it/s, loss=0.279405]\n"
          ]
        },
        {
          "output_type": "stream",
          "name": "stdout",
          "text": [
            "Epoch 85: Train Loss: 0.250306, Val Loss: 0.273840\n"
          ]
        },
        {
          "output_type": "stream",
          "name": "stderr",
          "text": [
            "Epoch 86/200 [Train]: 100%|██████████| 6/6 [00:00<00:00, 41.26it/s, loss=0.255407]\n",
            "Epoch 86/200 [Val]: 100%|██████████| 2/2 [00:00<00:00, 22.73it/s, loss=0.278416]\n"
          ]
        },
        {
          "output_type": "stream",
          "name": "stdout",
          "text": [
            "Epoch 86: Train Loss: 0.249678, Val Loss: 0.272885\n"
          ]
        },
        {
          "output_type": "stream",
          "name": "stderr",
          "text": [
            "Epoch 87/200 [Train]: 100%|██████████| 6/6 [00:00<00:00, 40.49it/s, loss=0.256512]\n",
            "Epoch 87/200 [Val]: 100%|██████████| 2/2 [00:00<00:00, 22.08it/s, loss=0.281503]\n"
          ]
        },
        {
          "output_type": "stream",
          "name": "stdout",
          "text": [
            "Epoch 87: Train Loss: 0.249239, Val Loss: 0.274706\n"
          ]
        },
        {
          "output_type": "stream",
          "name": "stderr",
          "text": [
            "Epoch 88/200 [Train]: 100%|██████████| 6/6 [00:00<00:00, 40.73it/s, loss=0.247878]\n",
            "Epoch 88/200 [Val]: 100%|██████████| 2/2 [00:00<00:00, 22.11it/s, loss=0.282695]\n"
          ]
        },
        {
          "output_type": "stream",
          "name": "stdout",
          "text": [
            "Epoch 88: Train Loss: 0.249586, Val Loss: 0.276083\n"
          ]
        },
        {
          "output_type": "stream",
          "name": "stderr",
          "text": [
            "Epoch 89/200 [Train]: 100%|██████████| 6/6 [00:00<00:00, 35.16it/s, loss=0.241656]\n",
            "Epoch 89/200 [Val]: 100%|██████████| 2/2 [00:00<00:00, 21.86it/s, loss=0.278190]\n"
          ]
        },
        {
          "output_type": "stream",
          "name": "stdout",
          "text": [
            "Epoch 89: Train Loss: 0.249357, Val Loss: 0.272843\n"
          ]
        },
        {
          "output_type": "stream",
          "name": "stderr",
          "text": [
            "Epoch 90/200 [Train]: 100%|██████████| 6/6 [00:00<00:00, 38.24it/s, loss=0.250362]\n",
            "Epoch 90/200 [Val]: 100%|██████████| 2/2 [00:00<00:00, 20.64it/s, loss=0.280491]\n"
          ]
        },
        {
          "output_type": "stream",
          "name": "stdout",
          "text": [
            "Epoch 90: Train Loss: 0.249970, Val Loss: 0.274483\n"
          ]
        },
        {
          "output_type": "stream",
          "name": "stderr",
          "text": [
            "Epoch 91/200 [Train]: 100%|██████████| 6/6 [00:00<00:00, 39.03it/s, loss=0.251711]\n",
            "Epoch 91/200 [Val]: 100%|██████████| 2/2 [00:00<00:00, 21.68it/s, loss=0.279430]\n"
          ]
        },
        {
          "output_type": "stream",
          "name": "stdout",
          "text": [
            "Epoch 91: Train Loss: 0.250580, Val Loss: 0.273649\n"
          ]
        },
        {
          "output_type": "stream",
          "name": "stderr",
          "text": [
            "Epoch 92/200 [Train]: 100%|██████████| 6/6 [00:00<00:00, 40.35it/s, loss=0.245801]\n",
            "Epoch 92/200 [Val]: 100%|██████████| 2/2 [00:00<00:00, 19.52it/s, loss=0.281662]\n"
          ]
        },
        {
          "output_type": "stream",
          "name": "stdout",
          "text": [
            "Epoch 92: Train Loss: 0.247478, Val Loss: 0.275537\n"
          ]
        },
        {
          "output_type": "stream",
          "name": "stderr",
          "text": [
            "Epoch 93/200 [Train]: 100%|██████████| 6/6 [00:00<00:00, 39.12it/s, loss=0.242443]\n",
            "Epoch 93/200 [Val]: 100%|██████████| 2/2 [00:00<00:00, 22.26it/s, loss=0.279844]\n"
          ]
        },
        {
          "output_type": "stream",
          "name": "stdout",
          "text": [
            "Epoch 93: Train Loss: 0.245823, Val Loss: 0.273984\n"
          ]
        },
        {
          "output_type": "stream",
          "name": "stderr",
          "text": [
            "Epoch 94/200 [Train]: 100%|██████████| 6/6 [00:00<00:00, 40.39it/s, loss=0.247088]\n",
            "Epoch 94/200 [Val]: 100%|██████████| 2/2 [00:00<00:00, 22.00it/s, loss=0.277015]\n"
          ]
        },
        {
          "output_type": "stream",
          "name": "stdout",
          "text": [
            "Epoch 94: Train Loss: 0.245568, Val Loss: 0.271356\n"
          ]
        },
        {
          "output_type": "stream",
          "name": "stderr",
          "text": [
            "Epoch 95/200 [Train]: 100%|██████████| 6/6 [00:00<00:00, 41.78it/s, loss=0.252666]\n",
            "Epoch 95/200 [Val]: 100%|██████████| 2/2 [00:00<00:00, 22.50it/s, loss=0.279049]\n"
          ]
        },
        {
          "output_type": "stream",
          "name": "stdout",
          "text": [
            "Epoch 95: Train Loss: 0.246730, Val Loss: 0.273407\n"
          ]
        },
        {
          "output_type": "stream",
          "name": "stderr",
          "text": [
            "Epoch 96/200 [Train]: 100%|██████████| 6/6 [00:00<00:00, 37.84it/s, loss=0.241307]\n",
            "Epoch 96/200 [Val]: 100%|██████████| 2/2 [00:00<00:00, 20.73it/s, loss=0.280872]\n"
          ]
        },
        {
          "output_type": "stream",
          "name": "stdout",
          "text": [
            "Epoch 96: Train Loss: 0.243703, Val Loss: 0.274848\n"
          ]
        },
        {
          "output_type": "stream",
          "name": "stderr",
          "text": [
            "Epoch 97/200 [Train]: 100%|██████████| 6/6 [00:00<00:00, 38.56it/s, loss=0.245536]\n",
            "Epoch 97/200 [Val]: 100%|██████████| 2/2 [00:00<00:00, 20.89it/s, loss=0.278311]\n"
          ]
        },
        {
          "output_type": "stream",
          "name": "stdout",
          "text": [
            "Epoch 97: Train Loss: 0.244187, Val Loss: 0.272593\n"
          ]
        },
        {
          "output_type": "stream",
          "name": "stderr",
          "text": [
            "Epoch 98/200 [Train]: 100%|██████████| 6/6 [00:00<00:00, 39.85it/s, loss=0.252728]\n",
            "Epoch 98/200 [Val]: 100%|██████████| 2/2 [00:00<00:00, 22.07it/s, loss=0.279104]\n"
          ]
        },
        {
          "output_type": "stream",
          "name": "stdout",
          "text": [
            "Epoch 98: Train Loss: 0.243093, Val Loss: 0.272835\n"
          ]
        },
        {
          "output_type": "stream",
          "name": "stderr",
          "text": [
            "Epoch 99/200 [Train]: 100%|██████████| 6/6 [00:00<00:00, 39.58it/s, loss=0.235716]\n",
            "Epoch 99/200 [Val]: 100%|██████████| 2/2 [00:00<00:00, 21.68it/s, loss=0.278013]\n"
          ]
        },
        {
          "output_type": "stream",
          "name": "stdout",
          "text": [
            "Epoch 99: Train Loss: 0.241791, Val Loss: 0.272227\n"
          ]
        },
        {
          "output_type": "stream",
          "name": "stderr",
          "text": [
            "Epoch 100/200 [Train]: 100%|██████████| 6/6 [00:00<00:00, 36.84it/s, loss=0.246088]\n",
            "Epoch 100/200 [Val]: 100%|██████████| 2/2 [00:00<00:00, 21.62it/s, loss=0.276214]\n"
          ]
        },
        {
          "output_type": "stream",
          "name": "stdout",
          "text": [
            "Epoch 100: Train Loss: 0.242033, Val Loss: 0.270591\n"
          ]
        },
        {
          "output_type": "stream",
          "name": "stderr",
          "text": [
            "Epoch 101/200 [Train]: 100%|██████████| 6/6 [00:00<00:00, 40.44it/s, loss=0.241402]\n",
            "Epoch 101/200 [Val]: 100%|██████████| 2/2 [00:00<00:00, 22.27it/s, loss=0.279511]\n"
          ]
        },
        {
          "output_type": "stream",
          "name": "stdout",
          "text": [
            "Epoch 101: Train Loss: 0.241171, Val Loss: 0.273625\n"
          ]
        },
        {
          "output_type": "stream",
          "name": "stderr",
          "text": [
            "Epoch 102/200 [Train]: 100%|██████████| 6/6 [00:00<00:00, 41.58it/s, loss=0.229759]\n",
            "Epoch 102/200 [Val]: 100%|██████████| 2/2 [00:00<00:00, 22.45it/s, loss=0.283504]\n"
          ]
        },
        {
          "output_type": "stream",
          "name": "stdout",
          "text": [
            "Epoch 102: Train Loss: 0.240685, Val Loss: 0.276918\n"
          ]
        },
        {
          "output_type": "stream",
          "name": "stderr",
          "text": [
            "Epoch 103/200 [Train]: 100%|██████████| 6/6 [00:00<00:00, 38.26it/s, loss=0.244437]\n",
            "Epoch 103/200 [Val]: 100%|██████████| 2/2 [00:00<00:00, 19.26it/s, loss=0.276536]\n"
          ]
        },
        {
          "output_type": "stream",
          "name": "stdout",
          "text": [
            "Epoch 103: Train Loss: 0.241290, Val Loss: 0.270916\n"
          ]
        },
        {
          "output_type": "stream",
          "name": "stderr",
          "text": [
            "Epoch 104/200 [Train]: 100%|██████████| 6/6 [00:00<00:00, 41.45it/s, loss=0.250283]\n",
            "Epoch 104/200 [Val]: 100%|██████████| 2/2 [00:00<00:00, 20.52it/s, loss=0.277419]\n"
          ]
        },
        {
          "output_type": "stream",
          "name": "stdout",
          "text": [
            "Epoch 104: Train Loss: 0.240702, Val Loss: 0.271484\n"
          ]
        },
        {
          "output_type": "stream",
          "name": "stderr",
          "text": [
            "Epoch 105/200 [Train]: 100%|██████████| 6/6 [00:00<00:00, 39.62it/s, loss=0.243633]\n",
            "Epoch 105/200 [Val]: 100%|██████████| 2/2 [00:00<00:00, 19.79it/s, loss=0.277150]\n"
          ]
        },
        {
          "output_type": "stream",
          "name": "stdout",
          "text": [
            "Epoch 105: Train Loss: 0.239458, Val Loss: 0.270772\n"
          ]
        },
        {
          "output_type": "stream",
          "name": "stderr",
          "text": [
            "Epoch 106/200 [Train]: 100%|██████████| 6/6 [00:00<00:00, 27.45it/s, loss=0.232127]\n",
            "Epoch 106/200 [Val]: 100%|██████████| 2/2 [00:00<00:00, 14.52it/s, loss=0.274412]\n"
          ]
        },
        {
          "output_type": "stream",
          "name": "stdout",
          "text": [
            "Epoch 106: Train Loss: 0.239838, Val Loss: 0.269557\n"
          ]
        },
        {
          "output_type": "stream",
          "name": "stderr",
          "text": [
            "Epoch 107/200 [Train]: 100%|██████████| 6/6 [00:00<00:00, 26.97it/s, loss=0.243431]\n",
            "Epoch 107/200 [Val]: 100%|██████████| 2/2 [00:00<00:00, 13.68it/s, loss=0.279608]\n"
          ]
        },
        {
          "output_type": "stream",
          "name": "stdout",
          "text": [
            "Epoch 107: Train Loss: 0.239818, Val Loss: 0.273164\n"
          ]
        },
        {
          "output_type": "stream",
          "name": "stderr",
          "text": [
            "Epoch 108/200 [Train]: 100%|██████████| 6/6 [00:00<00:00, 25.48it/s, loss=0.242142]\n",
            "Epoch 108/200 [Val]: 100%|██████████| 2/2 [00:00<00:00, 14.19it/s, loss=0.283060]\n"
          ]
        },
        {
          "output_type": "stream",
          "name": "stdout",
          "text": [
            "Epoch 108: Train Loss: 0.239903, Val Loss: 0.276208\n"
          ]
        },
        {
          "output_type": "stream",
          "name": "stderr",
          "text": [
            "Epoch 109/200 [Train]: 100%|██████████| 6/6 [00:00<00:00, 30.30it/s, loss=0.247157]\n",
            "Epoch 109/200 [Val]: 100%|██████████| 2/2 [00:00<00:00, 13.65it/s, loss=0.276030]\n"
          ]
        },
        {
          "output_type": "stream",
          "name": "stdout",
          "text": [
            "Epoch 109: Train Loss: 0.239244, Val Loss: 0.270341\n"
          ]
        },
        {
          "output_type": "stream",
          "name": "stderr",
          "text": [
            "Epoch 110/200 [Train]: 100%|██████████| 6/6 [00:00<00:00, 28.97it/s, loss=0.233184]\n",
            "Epoch 110/200 [Val]: 100%|██████████| 2/2 [00:00<00:00, 11.95it/s, loss=0.275390]\n"
          ]
        },
        {
          "output_type": "stream",
          "name": "stdout",
          "text": [
            "Epoch 110: Train Loss: 0.238590, Val Loss: 0.269948\n"
          ]
        },
        {
          "output_type": "stream",
          "name": "stderr",
          "text": [
            "Epoch 111/200 [Train]: 100%|██████████| 6/6 [00:00<00:00, 27.26it/s, loss=0.236671]\n",
            "Epoch 111/200 [Val]: 100%|██████████| 2/2 [00:00<00:00, 15.23it/s, loss=0.276476]\n"
          ]
        },
        {
          "output_type": "stream",
          "name": "stdout",
          "text": [
            "Epoch 111: Train Loss: 0.238525, Val Loss: 0.270687\n"
          ]
        },
        {
          "output_type": "stream",
          "name": "stderr",
          "text": [
            "Epoch 112/200 [Train]: 100%|██████████| 6/6 [00:00<00:00, 40.34it/s, loss=0.243493]\n",
            "Epoch 112/200 [Val]: 100%|██████████| 2/2 [00:00<00:00, 22.65it/s, loss=0.275982]\n"
          ]
        },
        {
          "output_type": "stream",
          "name": "stdout",
          "text": [
            "Epoch 112: Train Loss: 0.237210, Val Loss: 0.270611\n"
          ]
        },
        {
          "output_type": "stream",
          "name": "stderr",
          "text": [
            "Epoch 113/200 [Train]: 100%|██████████| 6/6 [00:00<00:00, 40.34it/s, loss=0.241061]\n",
            "Epoch 113/200 [Val]: 100%|██████████| 2/2 [00:00<00:00, 22.42it/s, loss=0.275696]\n"
          ]
        },
        {
          "output_type": "stream",
          "name": "stdout",
          "text": [
            "Epoch 113: Train Loss: 0.236133, Val Loss: 0.269812\n"
          ]
        },
        {
          "output_type": "stream",
          "name": "stderr",
          "text": [
            "Epoch 114/200 [Train]: 100%|██████████| 6/6 [00:00<00:00, 39.96it/s, loss=0.246775]\n",
            "Epoch 114/200 [Val]: 100%|██████████| 2/2 [00:00<00:00, 22.27it/s, loss=0.276738]\n"
          ]
        },
        {
          "output_type": "stream",
          "name": "stdout",
          "text": [
            "Epoch 114: Train Loss: 0.236203, Val Loss: 0.271098\n"
          ]
        },
        {
          "output_type": "stream",
          "name": "stderr",
          "text": [
            "Epoch 115/200 [Train]: 100%|██████████| 6/6 [00:00<00:00, 40.50it/s, loss=0.236604]\n",
            "Epoch 115/200 [Val]: 100%|██████████| 2/2 [00:00<00:00, 18.05it/s, loss=0.276840]\n"
          ]
        },
        {
          "output_type": "stream",
          "name": "stdout",
          "text": [
            "Epoch 115: Train Loss: 0.236402, Val Loss: 0.271530\n"
          ]
        },
        {
          "output_type": "stream",
          "name": "stderr",
          "text": [
            "Epoch 116/200 [Train]: 100%|██████████| 6/6 [00:00<00:00, 40.26it/s, loss=0.237488]\n",
            "Epoch 116/200 [Val]: 100%|██████████| 2/2 [00:00<00:00, 21.95it/s, loss=0.279940]\n"
          ]
        },
        {
          "output_type": "stream",
          "name": "stdout",
          "text": [
            "Epoch 116: Train Loss: 0.235336, Val Loss: 0.273315\n"
          ]
        },
        {
          "output_type": "stream",
          "name": "stderr",
          "text": [
            "Epoch 117/200 [Train]: 100%|██████████| 6/6 [00:00<00:00, 37.77it/s, loss=0.238897]\n",
            "Epoch 117/200 [Val]: 100%|██████████| 2/2 [00:00<00:00, 22.11it/s, loss=0.277559]\n"
          ]
        },
        {
          "output_type": "stream",
          "name": "stdout",
          "text": [
            "Epoch 117: Train Loss: 0.235116, Val Loss: 0.271560\n"
          ]
        },
        {
          "output_type": "stream",
          "name": "stderr",
          "text": [
            "Epoch 118/200 [Train]: 100%|██████████| 6/6 [00:00<00:00, 40.74it/s, loss=0.232290]\n",
            "Epoch 118/200 [Val]: 100%|██████████| 2/2 [00:00<00:00, 21.45it/s, loss=0.277593]\n"
          ]
        },
        {
          "output_type": "stream",
          "name": "stdout",
          "text": [
            "Epoch 118: Train Loss: 0.233830, Val Loss: 0.271836\n"
          ]
        },
        {
          "output_type": "stream",
          "name": "stderr",
          "text": [
            "Epoch 119/200 [Train]: 100%|██████████| 6/6 [00:00<00:00, 37.12it/s, loss=0.240229]\n",
            "Epoch 119/200 [Val]: 100%|██████████| 2/2 [00:00<00:00, 21.91it/s, loss=0.277436]\n"
          ]
        },
        {
          "output_type": "stream",
          "name": "stdout",
          "text": [
            "Epoch 119: Train Loss: 0.233357, Val Loss: 0.271652\n"
          ]
        },
        {
          "output_type": "stream",
          "name": "stderr",
          "text": [
            "Epoch 120/200 [Train]: 100%|██████████| 6/6 [00:00<00:00, 40.18it/s, loss=0.225240]\n",
            "Epoch 120/200 [Val]: 100%|██████████| 2/2 [00:00<00:00, 22.15it/s, loss=0.275569]\n"
          ]
        },
        {
          "output_type": "stream",
          "name": "stdout",
          "text": [
            "Epoch 120: Train Loss: 0.231761, Val Loss: 0.270046\n"
          ]
        },
        {
          "output_type": "stream",
          "name": "stderr",
          "text": [
            "Epoch 121/200 [Train]: 100%|██████████| 6/6 [00:00<00:00, 40.06it/s, loss=0.243917]\n",
            "Epoch 121/200 [Val]: 100%|██████████| 2/2 [00:00<00:00, 21.64it/s, loss=0.276858]\n"
          ]
        },
        {
          "output_type": "stream",
          "name": "stdout",
          "text": [
            "Epoch 121: Train Loss: 0.234005, Val Loss: 0.270899\n",
            "Early stopping triggered after 121 epochs\n",
            "Training completed!\n",
            "Best model loaded\n"
          ]
        }
      ]
    },
    {
      "cell_type": "code",
      "source": [
        "# Cell 15: Step 15 — Compute Reconstruction Errors Function\n",
        "\n",
        "def compute_reconstruction_errors(model, windows_list, batch_size=32):\n",
        "    model.eval()\n",
        "    errors = []\n",
        "    dataset = HealthyWindowDataset(windows_list)\n",
        "    dataloader = DataLoader(dataset, batch_size=batch_size, shuffle=False)\n",
        "\n",
        "    with torch.no_grad():\n",
        "        for batch_x in tqdm(dataloader, desc=\"Computing errors\"):\n",
        "            batch_x = batch_x.to(device)\n",
        "            reconstructed = model(batch_x)\n",
        "            batch_errors = torch.mean(torch.abs(reconstructed - batch_x), dim=[1,2,3]).cpu().numpy()\n",
        "            errors.extend(batch_errors)\n",
        "    return np.array(errors)"
      ],
      "metadata": {
        "id": "8G5MFxM9YHV5"
      },
      "execution_count": null,
      "outputs": []
    },
    {
      "cell_type": "code",
      "source": [
        "# Cell 16: Step 16 — Compute Threshold from Validation Healthy Windows\n",
        "\n",
        "print(\"Step 16: Computing reconstruction error threshold...\")\n",
        "val_errors = compute_reconstruction_errors(autoencoder, val_windows)\n",
        "T_win = np.quantile(val_errors, 0.95)\n",
        "print(f\"Window-level threshold T_win: {T_win:.6f}\")"
      ],
      "metadata": {
        "colab": {
          "base_uri": "https://localhost:8080/"
        },
        "id": "BK_6CcY1YJ9a",
        "outputId": "8c3d66c0-6f78-4de2-e3de-bc8897c05e95"
      },
      "execution_count": null,
      "outputs": [
        {
          "output_type": "stream",
          "name": "stdout",
          "text": [
            "Step 16: Computing reconstruction error threshold...\n"
          ]
        },
        {
          "output_type": "stream",
          "name": "stderr",
          "text": [
            "Computing errors: 100%|██████████| 2/2 [00:00<00:00, 237.75it/s]"
          ]
        },
        {
          "output_type": "stream",
          "name": "stdout",
          "text": [
            "Window-level threshold T_win: 0.315310\n"
          ]
        },
        {
          "output_type": "stream",
          "name": "stderr",
          "text": [
            "\n"
          ]
        }
      ]
    },
    {
      "cell_type": "code",
      "source": [
        "# Cell 17: Step 17 — Compute Anomaly Scores for All Windows\n",
        "\n",
        "print(\"Step 17: Computing anomaly scores for all windows...\")\n",
        "all_window_errors = {}\n",
        "\n",
        "healthy_errors = compute_reconstruction_errors(autoencoder, healthy_windows_norm)\n",
        "for i, error in enumerate(healthy_errors):\n",
        "    subject_id = [subj for subj in healthy_subject_ids if subj in subject_files][i % len(healthy_subject_ids)]\n",
        "    window_key = f\"{subject_id}_healthy_{i}\"\n",
        "    all_window_errors[window_key] = error\n",
        "\n",
        "diseased_errors = compute_reconstruction_errors(autoencoder, diseased_windows_norm)\n",
        "for i, error in enumerate(diseased_errors):\n",
        "    subject_id = [subj for subj in diseased_subject_ids if subj in subject_files][i % len(diseased_subject_ids)]\n",
        "    window_key = f\"{subject_id}_diseased_{i}\"\n",
        "    all_window_errors[window_key] = error"
      ],
      "metadata": {
        "colab": {
          "base_uri": "https://localhost:8080/"
        },
        "id": "guLfDMLCYNad",
        "outputId": "43ebe2c4-c968-4c34-fe8a-12d522f9fca7"
      },
      "execution_count": null,
      "outputs": [
        {
          "output_type": "stream",
          "name": "stdout",
          "text": [
            "Step 17: Computing anomaly scores for all windows...\n"
          ]
        },
        {
          "output_type": "stream",
          "name": "stderr",
          "text": [
            "Computing errors: 100%|██████████| 8/8 [00:00<00:00, 295.13it/s]\n",
            "Computing errors: 100%|██████████| 41/41 [00:00<00:00, 382.87it/s]\n"
          ]
        }
      ]
    },
    {
      "cell_type": "code",
      "source": [
        "# Cell 18: Step 18 — Aggregate Window-Level Errors to Subject-Level Scores\n",
        "\n",
        "print(\"Step 18: Aggregating to subject-level scores...\")\n",
        "subject_scores = {}\n",
        "\n",
        "for window_key, error in all_window_errors.items():\n",
        "    subject_id = window_key.split('_')[0]\n",
        "    if subject_id not in subject_scores:\n",
        "        subject_scores[subject_id] = []\n",
        "    subject_scores[subject_id].append(error)\n",
        "\n",
        "subject_score_dict = {}\n",
        "for subject_id, errors in subject_scores.items():\n",
        "    subject_score_dict[subject_id] = np.max(errors)\n",
        "\n",
        "print(f\"Computed scores for {len(subject_score_dict)} subjects\")"
      ],
      "metadata": {
        "colab": {
          "base_uri": "https://localhost:8080/"
        },
        "id": "X96Qto6QYSYY",
        "outputId": "a23ca3c5-b945-4e4a-b152-5aa29a426e4f"
      },
      "execution_count": null,
      "outputs": [
        {
          "output_type": "stream",
          "name": "stdout",
          "text": [
            "Step 18: Aggregating to subject-level scores...\n",
            "Computed scores for 42 subjects\n"
          ]
        }
      ]
    },
    {
      "cell_type": "code",
      "source": [
        "print(\"Step 19: Computing subject-level threshold...\")\n",
        "healthy_subject_scores = [subject_score_dict[subj] for subj in healthy_subject_ids if subj in subject_score_dict]\n",
        "T_subj = np.quantile(healthy_subject_scores, 0.95)\n",
        "print(f\"Subject-level threshold T_subj: {T_subj:.6f}\")"
      ],
      "metadata": {
        "colab": {
          "base_uri": "https://localhost:8080/"
        },
        "id": "wXoV_HbRYXao",
        "outputId": "e8ddf800-6175-4fdc-8219-7a5282134597"
      },
      "execution_count": null,
      "outputs": [
        {
          "output_type": "stream",
          "name": "stdout",
          "text": [
            "Step 19: Computing subject-level threshold...\n",
            "Subject-level threshold T_subj: 0.372265\n"
          ]
        }
      ]
    },
    {
      "cell_type": "code",
      "source": [
        "# Cell 20: Step 20 — Generate Final Predictions\n",
        "\n",
        "print(\"Step 20: Generating final predictions...\")\n",
        "predictions = {}\n",
        "for subject_id, score in subject_score_dict.items():\n",
        "    predictions[subject_id] = 1 if score > T_subj else 0"
      ],
      "metadata": {
        "colab": {
          "base_uri": "https://localhost:8080/"
        },
        "id": "VGPwBIn2YZxR",
        "outputId": "46bf6bc0-64f0-409e-bab6-98de2fbf6669"
      },
      "execution_count": null,
      "outputs": [
        {
          "output_type": "stream",
          "name": "stdout",
          "text": [
            "Step 20: Generating final predictions...\n"
          ]
        }
      ]
    },
    {
      "cell_type": "code",
      "source": [
        "# Cell 21: Step 26 — Evaluate Performance\n",
        "\n",
        "print(\"Step 26: Evaluating performance...\")\n",
        "y_true = []\n",
        "y_pred = []\n",
        "\n",
        "for subject_id in predictions.keys():\n",
        "    if subject_id in subject_labels:\n",
        "        true_label = 0 if subject_labels[subject_id] == 0 else 1\n",
        "        pred_label = predictions[subject_id]\n",
        "        y_true.append(true_label)\n",
        "        y_pred.append(pred_label)\n",
        "\n",
        "if len(y_true) > 0:\n",
        "    accuracy = accuracy_score(y_true, y_pred)\n",
        "    cm = confusion_matrix(y_true, y_pred)\n",
        "\n",
        "    tn, fp, fn, tp = cm.ravel() if cm.size == 4 else (0, 0, 0, len(y_true))\n",
        "    sensitivity = tp / (tp + fn) if (tp + fn) > 0 else 0\n",
        "    specificity = tn / (tn + fp) if (tn + fp) > 0 else 0\n",
        "\n",
        "    print(\"\\n=== EVALUATION RESULTS ===\")\n",
        "    print(f\"Overall Accuracy: {accuracy:.4f}\")\n",
        "    print(f\"Sensitivity (Recall): {sensitivity:.4f}\")\n",
        "    print(f\"Specificity: {specificity:.4f}\")\n",
        "    print(f\"Confusion Matrix:\\n{cm}\")\n",
        "\n",
        "    # Step 27: Plot Reconstruction Error Distributions\n",
        "    print(\"Step 27: Creating visualizations...\")\n",
        "    plt.figure(figsize=(12, 8))\n",
        "\n",
        "    # Plot 1: Error distributions\n",
        "    plt.subplot(2, 2, 1)\n",
        "    plt.hist(healthy_errors, bins=50, alpha=0.7, label='Healthy', density=True)\n",
        "    plt.hist(diseased_errors, bins=50, alpha=0.7, label='Diseased', density=True)\n",
        "    plt.axvline(T_win, color='red', linestyle='--', label=f'Threshold={T_win:.4f}')\n",
        "    plt.xlabel('Reconstruction Error')\n",
        "    plt.ylabel('Density')\n",
        "    plt.legend()"
      ],
      "metadata": {
        "colab": {
          "base_uri": "https://localhost:8080/",
          "height": 396
        },
        "id": "BrbBvVMoYdVZ",
        "outputId": "f0738e66-9e26-46dd-b410-1d30573ed421"
      },
      "execution_count": null,
      "outputs": [
        {
          "output_type": "stream",
          "name": "stdout",
          "text": [
            "Step 26: Evaluating performance...\n",
            "\n",
            "=== EVALUATION RESULTS ===\n",
            "Overall Accuracy: 0.9762\n",
            "Sensitivity (Recall): 1.0000\n",
            "Specificity: 0.8333\n",
            "Confusion Matrix:\n",
            "[[ 5  1]\n",
            " [ 0 36]]\n",
            "Step 27: Creating visualizations...\n"
          ]
        },
        {
          "output_type": "display_data",
          "data": {
            "text/plain": [
              "<Figure size 1200x800 with 1 Axes>"
            ],
            "image/png": "[encoded data removed]"
          },
          "metadata": {}
        }
      ]
    },
    {
      "cell_type": "code",
      "source": [
        "# Cell 22: Step 27 — (Continued) Additional Plots if Needed\n",
        "\n",
        "# You can add more plotting code here for further visualizations,\n",
        "# such as subject-level score distributions, ROC curves, etc.\n",
        "# For example:\n",
        "\n",
        "plt.subplot(2, 2, 2)\n",
        "plt.hist(list(subject_score_dict.values()), bins=50, alpha=0.7, label='Subject Scores')\n",
        "plt.axvline(T_subj, color='red', linestyle='--', label=f'Subject Threshold={T_subj:.4f}')\n",
        "plt.xlabel('Subject-Level Score')\n",
        "plt.ylabel('Count')\n",
        "plt.legend()\n",
        "\n",
        "plt.tight_layout()\n",
        "plt.show()"
      ],
      "metadata": {
        "colab": {
          "base_uri": "https://localhost:8080/",
          "height": 226
        },
        "id": "1v6CCQ2mYgst",
        "outputId": "fd5a96cd-b799-417a-d8cb-bf976deb02d5"
      },
      "execution_count": null,
      "outputs": [
        {
          "output_type": "display_data",
          "data": {
            "text/plain": [
              "<Figure size 640x480 with 1 Axes>"
            ],
            "image/png": "[encoded data removed]"
          },
          "metadata": {}
        }
      ]
    },
    {
      "cell_type": "code",
      "source": [
        "from sklearn.metrics import roc_curve, auc\n",
        "\n",
        "y_true_subj = [0 if subject_labels[s]==0 else 1 for s in subject_score_dict if s in subject_labels]\n",
        "y_score_subj = [subject_score_dict[s] for s in subject_score_dict if s in subject_labels]\n",
        "\n",
        "fpr, tpr, thresholds = roc_curve(y_true_subj, y_score_subj)\n",
        "roc_auc = auc(fpr, tpr)\n",
        "print(\"AUC:\", roc_auc)"
      ],
      "metadata": {
        "colab": {
          "base_uri": "https://localhost:8080/"
        },
        "id": "Eg2Y74rmaKPz",
        "outputId": "6f46c7d1-6c49-4fee-d193-c9c2f9b9fcf4"
      },
      "execution_count": null,
      "outputs": [
        {
          "output_type": "stream",
          "name": "stdout",
          "text": [
            "AUC: 0.9907407407407407\n"
          ]
        }
      ]
    },
    {
      "cell_type": "code",
      "source": [
        "from sklearn.metrics import precision_recall_curve\n",
        "precision, recall, pr_thresh = precision_recall_curve(y_true_subj, y_score_subj)\n",
        "f1 = 2 * precision * recall / (precision + recall + 1e-8)\n",
        "best = f1.argmax()\n",
        "T_subj = pr_thresh[best]"
      ],
      "metadata": {
        "id": "b2I0ZhO5c-eO"
      },
      "execution_count": null,
      "outputs": []
    }
  ]
}